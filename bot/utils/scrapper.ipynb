{
 "cells": [
  {
   "cell_type": "code",
   "id": "initial_id",
   "metadata": {
    "collapsed": true,
    "ExecuteTime": {
     "end_time": "2025-03-18T19:27:53.876193Z",
     "start_time": "2025-03-18T19:27:53.809371Z"
    }
   },
   "source": [
    "import re\n",
    "import requests\n",
    "from bs4 import BeautifulSoup"
   ],
   "outputs": [],
   "execution_count": 2
  },
  {
   "metadata": {
    "ExecuteTime": {
     "end_time": "2025-03-18T19:27:53.883502Z",
     "start_time": "2025-03-18T19:27:53.881483Z"
    }
   },
   "cell_type": "code",
   "source": [
    "proxies = {\n",
    "    \"http\": \"http://127.0.0.1:2080\",  # Replace with your proxy address\n",
    "    \"https\": \"http://127.0.0.1:2080\"  # For HTTPS requests as well\n",
    "}\n"
   ],
   "id": "c9f426c907d39913",
   "outputs": [],
   "execution_count": 3
  },
  {
   "metadata": {
    "ExecuteTime": {
     "end_time": "2025-03-18T19:27:54.420948Z",
     "start_time": "2025-03-18T19:27:53.929315Z"
    }
   },
   "cell_type": "code",
   "source": "res = requests.get(\"https://core.telegram.org/bots/api\", proxies=proxies)",
   "id": "40f0e82542f522c1",
   "outputs": [],
   "execution_count": 4
  },
  {
   "metadata": {
    "ExecuteTime": {
     "end_time": "2025-03-18T19:27:54.438722Z",
     "start_time": "2025-03-18T19:27:54.435322Z"
    }
   },
   "cell_type": "code",
   "source": "pattern = r'<h4><a class=\\\"anchor\\\" name=\\\".*?\\\" href=\\\".*?\\\"><i class=\\\"anchor-icon\\\"><\\/i><\\/a>(.*?)<\\/h4>\\s+<p>(.*?)<\\/p>\\s+<table class=\\\"table\\\">\\s+<thead>\\s+<tr>\\s+<th>Parameter<\\/th>\\s+<th>Type<\\/th>\\s+<th>Required<\\/th>\\s+<th>Description<\\/th>\\s+<\\/tr>\\s+<\\/thead>\\s+<tbody.*?>([\\s\\S]*?)<\\/tbody>'",
   "id": "ae1e8b23f5c23dc6",
   "outputs": [],
   "execution_count": 5
  },
  {
   "metadata": {
    "ExecuteTime": {
     "end_time": "2025-03-18T19:27:54.486399Z",
     "start_time": "2025-03-18T19:27:54.477627Z"
    }
   },
   "cell_type": "code",
   "source": "all_methods = re.findall(pattern, res.text)",
   "id": "29c8fb1dff77f41c",
   "outputs": [],
   "execution_count": 6
  },
  {
   "metadata": {
    "ExecuteTime": {
     "end_time": "2025-03-18T19:27:54.537047Z",
     "start_time": "2025-03-18T19:27:54.533766Z"
    }
   },
   "cell_type": "code",
   "source": "table_body_pattern = r'<tr>\\s+<td>(.*?)</td>\\s+<td>(.*?)</td>\\s+<td>(.*?)</td>\\s+<td>(.*?)</td>\\s+</tr>'",
   "id": "85f8a5da061ed4a1",
   "outputs": [],
   "execution_count": 7
  },
  {
   "metadata": {
    "ExecuteTime": {
     "end_time": "2025-03-18T20:40:56.180644Z",
     "start_time": "2025-03-18T20:40:56.176736Z"
    }
   },
   "cell_type": "code",
   "source": "max_char_pattern = r'-(\\d+) characters'",
   "id": "ca64487b33fe0082",
   "outputs": [],
   "execution_count": 35
  },
  {
   "metadata": {
    "ExecuteTime": {
     "end_time": "2025-03-18T19:27:54.599414Z",
     "start_time": "2025-03-18T19:27:54.597051Z"
    }
   },
   "cell_type": "code",
   "source": [
    "def text_cleaner(text):\n",
    "    return BeautifulSoup(text, 'html.parser').get_text().replace('\"', '\\\\\"')"
   ],
   "id": "a7b3feaca0bf5a65",
   "outputs": [],
   "execution_count": 8
  },
  {
   "metadata": {
    "ExecuteTime": {
     "end_time": "2025-03-18T20:42:57.087894Z",
     "start_time": "2025-03-18T20:42:56.996502Z"
    }
   },
   "cell_type": "code",
   "source": [
    "with open('models.py', 'w') as file:\n",
    "    for i, method in enumerate(all_methods):\n",
    "        if i < 2:\n",
    "            continue\n",
    "        name = method[0]\n",
    "        comment = method[1]\n",
    "        body = re.findall(table_body_pattern, method[2])\n",
    "        file.write(f\"class {name[0].upper()+name[1:]}(TelegramComponent):\\n\")\n",
    "        file.write(f\"    \\\"\\\"\\\"{text_cleaner(comment)}\\\"\\\"\\\"\\n\\n\")\n",
    "\n",
    "        # print(f\"class {name[0].upper()+name[1:]}(TelegramComponent):\")\n",
    "        for item in body:\n",
    "\n",
    "\n",
    "            if item[2] == 'Optional':\n",
    "                django_param = \"null=True, blank=True,\"\n",
    "            elif item[2] == 'Yes':\n",
    "                django_param = \"null=False, blank=False,\"\n",
    "\n",
    "            match = re.search(max_char_pattern, text_cleaner(item[3]))\n",
    "            if match:\n",
    "                extracted_number = int(match.group(1))  # Convert to integer\n",
    "                django_param += f\" max_length = {extracted_number},\"\n",
    "\n",
    "            django_param += f\" help_text=\\\"{text_cleaner(item[3])}\\\"\"\n",
    "\n",
    "            if item[1] == 'String' or item[1] == 'Integer or String':\n",
    "                django_field = f\" = models.CharField({django_param})\"\n",
    "            elif item[1] == 'Boolean':\n",
    "                django_field = f\" = models.BooleanField({django_param})\"\n",
    "            elif item[1] == 'Integer':\n",
    "                django_field = f\" = models.IntegerField({django_param})\"\n",
    "            elif item[1] == 'Array of Integer':\n",
    "                django_field = f\"= ArrayField(models.IntegerField(), default=list, {django_param})\"\n",
    "            elif item[1] == 'Array of String':\n",
    "                django_field = f\"= ArrayField(models.CharField(), default=list, {django_param})\"\n",
    "            elif item[1] == 'Float':\n",
    "                django_field = f\" = models.FloatField({django_param})\"\n",
    "            else:\n",
    "                continue\n",
    "                if item[0] in ['reply_markup', 'reply_parameters']:\n",
    "                    print( item[0] ,item[1])\n",
    "\n",
    "\n",
    "            if django_field:\n",
    "                file.write(f\"    {item[0]}{django_field}\\n\")\n",
    "                # print(f\"    {item[0]}\", django_field)#, f\"help_text='{item[3]}'\")\n",
    "                # print(\"models.CharField\")\n",
    "        # print()\n",
    "        file.write(\"\\n\\n\")\n",
    "file.close()"
   ],
   "id": "b8277c6cbd6e0c1b",
   "outputs": [],
   "execution_count": 42
  },
  {
   "metadata": {
    "ExecuteTime": {
     "end_time": "2025-03-18T20:31:21.952657Z",
     "start_time": "2025-03-18T20:31:21.945376Z"
    }
   },
   "cell_type": "code",
   "source": [
    "with open('serializers.py', 'w') as file:\n",
    "    file.write(\"\"\"from rest_framework import serializers\n",
    "from bot.models import *\n",
    "\n",
    "\"\"\")\n",
    "    for i, method in enumerate(all_methods):\n",
    "        if i < 2:\n",
    "            continue\n",
    "        name = method[0]\n",
    "        comment = method[1]\n",
    "        # body = re.findall(table_body_pattern, method[2])\n",
    "        # print(f\"class {name[0].upper()+name[1:]}(TelegramComponent):\")\n",
    "        file.write(f\"class {name[0].upper()+name[1:]}Serializer(serializers.ModelSerializer):\\n\")\n",
    "        file.write(f\"    class Meta:\\n\")\n",
    "        file.write(f\"        model = {name[0].upper()+name[1:]}\\n\")\n",
    "        file.write(f\"        depth = 1\\n\")\n",
    "        file.write(f\"        fields = \\\"__all__\\\"\")\n",
    "        file.write(\"\\n\\n\")\n",
    "file.close()"
   ],
   "id": "86d8935e4565554a",
   "outputs": [],
   "execution_count": 26
  },
  {
   "metadata": {
    "ExecuteTime": {
     "end_time": "2025-03-18T20:24:59.267225Z",
     "start_time": "2025-03-18T20:24:59.259552Z"
    }
   },
   "cell_type": "code",
   "source": [
    "with open('views.py', 'w') as file:\n",
    "\n",
    "    for i, method in enumerate(all_methods):\n",
    "        if i < 2:\n",
    "            continue\n",
    "        name = method[0]\n",
    "        comment = method[1]\n",
    "        correct_name = name[0].upper()+name[1:]\n",
    "        file.write(f\"class {correct_name}ViewSet(ModelViewSet):\\n\")\n",
    "        file.write(f\"    serializer_class = {correct_name}Serializer\\n\")\n",
    "        file.write(f\"    queryset = {correct_name}.objects.all()\\n\")\n",
    "        file.write(\"\\n\\n\")\n",
    "file.close()"
   ],
   "id": "1e39353c535e21ba",
   "outputs": [],
   "execution_count": 23
  },
  {
   "metadata": {
    "ExecuteTime": {
     "end_time": "2025-03-18T20:43:47.290429Z",
     "start_time": "2025-03-18T20:43:47.284422Z"
    }
   },
   "cell_type": "code",
   "source": [
    "with open('urls.py', 'w') as file:\n",
    "\n",
    "    for i, method in enumerate(all_methods):\n",
    "        if i < 2:\n",
    "            continue\n",
    "        name = method[0]\n",
    "        comment = method[1]\n",
    "        correct_name = name[0].upper()+name[1:]\n",
    "        under_lined_name = \"\"\n",
    "        for char in name:\n",
    "            if char.isupper():\n",
    "                under_lined_name += \"-\"+char.lower()\n",
    "            else:\n",
    "                under_lined_name += char\n",
    "\n",
    "        file.write(f\"router.register(r\\\"{under_lined_name}\\\", {correct_name}ViewSet)\\n\")\n",
    "file.close()"
   ],
   "id": "60dc33d27c71666",
   "outputs": [],
   "execution_count": 43
  }
 ],
 "metadata": {
  "kernelspec": {
   "display_name": "Python 3",
   "language": "python",
   "name": "python3"
  },
  "language_info": {
   "codemirror_mode": {
    "name": "ipython",
    "version": 2
   },
   "file_extension": ".py",
   "mimetype": "text/x-python",
   "name": "python",
   "nbconvert_exporter": "python",
   "pygments_lexer": "ipython2",
   "version": "2.7.6"
  }
 },
 "nbformat": 4,
 "nbformat_minor": 5
}
