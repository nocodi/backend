{
 "cells": [
  {
   "cell_type": "code",
   "id": "initial_id",
   "metadata": {
    "collapsed": true,
    "ExecuteTime": {
     "end_time": "2025-05-01T05:56:07.321954Z",
     "start_time": "2025-05-01T05:56:07.320011Z"
    }
   },
   "source": [
    "import re\n",
    "import requests\n",
    "from bs4 import BeautifulSoup"
   ],
   "outputs": [],
   "execution_count": 83
  },
  {
   "cell_type": "code",
   "id": "c9f426c907d39913",
   "metadata": {
    "ExecuteTime": {
     "end_time": "2025-05-01T05:56:07.332088Z",
     "start_time": "2025-05-01T05:56:07.330096Z"
    }
   },
   "source": [
    "proxies = {\n",
    "    \"http\": \"http://127.0.0.1:2080\",  # Replace with your proxy address\n",
    "    \"https\": \"http://127.0.0.1:2080\"  # For HTTPS requests as well\n",
    "}\n"
   ],
   "outputs": [],
   "execution_count": 84
  },
  {
   "cell_type": "code",
   "id": "40f0e82542f522c1",
   "metadata": {
    "ExecuteTime": {
     "end_time": "2025-05-01T05:56:07.994620Z",
     "start_time": "2025-05-01T05:56:07.376161Z"
    }
   },
   "source": [
    "res = requests.get(\"https://core.telegram.org/bots/api\", proxies=proxies)"
   ],
   "outputs": [],
   "execution_count": 85
  },
  {
   "cell_type": "code",
   "id": "ae1e8b23f5c23dc6",
   "metadata": {
    "ExecuteTime": {
     "end_time": "2025-05-01T05:56:08.000777Z",
     "start_time": "2025-05-01T05:56:07.999068Z"
    }
   },
   "source": [
    "pattern = r'<h4><a class=\\\"anchor\\\" name=\\\".*?\\\" href=\\\".*?\\\"><i class=\\\"anchor-icon\\\"><\\/i><\\/a>(.*?)<\\/h4>\\s+<p>(.*?)<\\/p>\\s+<table class=\\\"table\\\">\\s+<thead>\\s+<tr>\\s+<th>Parameter<\\/th>\\s+<th>Type<\\/th>\\s+<th>Required<\\/th>\\s+<th>Description<\\/th>\\s+<\\/tr>\\s+<\\/thead>\\s+<tbody.*?>([\\s\\S]*?)<\\/tbody>'"
   ],
   "outputs": [],
   "execution_count": 86
  },
  {
   "cell_type": "code",
   "id": "29c8fb1dff77f41c",
   "metadata": {
    "ExecuteTime": {
     "end_time": "2025-05-01T05:56:08.046308Z",
     "start_time": "2025-05-01T05:56:08.040559Z"
    }
   },
   "source": [
    "all_methods = re.findall(pattern, res.text)"
   ],
   "outputs": [],
   "execution_count": 87
  },
  {
   "cell_type": "code",
   "id": "85f8a5da061ed4a1",
   "metadata": {
    "ExecuteTime": {
     "end_time": "2025-05-01T05:56:08.091239Z",
     "start_time": "2025-05-01T05:56:08.089372Z"
    }
   },
   "source": [
    "table_body_pattern = r'<tr>\\s+<td>(.*?)</td>\\s+<td>(.*?)</td>\\s+<td>(.*?)</td>\\s+<td>(.*?)</td>\\s+</tr>'"
   ],
   "outputs": [],
   "execution_count": 88
  },
  {
   "cell_type": "code",
   "id": "ca64487b33fe0082",
   "metadata": {
    "ExecuteTime": {
     "end_time": "2025-05-01T05:56:08.136219Z",
     "start_time": "2025-05-01T05:56:08.133972Z"
    }
   },
   "source": [
    "max_char_pattern = r'-(\\d+) characters'"
   ],
   "outputs": [],
   "execution_count": 89
  },
  {
   "cell_type": "code",
   "id": "a7b3feaca0bf5a65",
   "metadata": {
    "ExecuteTime": {
     "end_time": "2025-05-01T05:56:08.180375Z",
     "start_time": "2025-05-01T05:56:08.178285Z"
    }
   },
   "source": [
    "def text_cleaner(text):\n",
    "    return BeautifulSoup(text, 'html.parser').get_text().replace('\"', '\\\\\"')"
   ],
   "outputs": [],
   "execution_count": 90
  },
  {
   "cell_type": "code",
   "id": "b8277c6cbd6e0c1b",
   "metadata": {
    "ExecuteTime": {
     "end_time": "2025-05-01T05:56:08.293612Z",
     "start_time": "2025-05-01T05:56:08.223844Z"
    }
   },
   "source": [
    "with open('../component/telegram/models.py', 'w') as file:\n",
    "    file.write(\"\"\"from django.contrib.postgres.fields import ArrayField\n",
    "from django.db import models\n",
    "from django.contrib.contenttypes.fields import GenericForeignKey\n",
    "from django.contrib.contenttypes.models import ContentType\n",
    "from django.db.models import Q\n",
    "\n",
    "\n",
    "class Keyboard(models.Model):\n",
    "    timestamp = models.DateTimeField(auto_now_add=True)\n",
    "    \n",
    "    class Meta:\n",
    "        pass\n",
    "\n",
    "\n",
    "class InlineKeyboardButton(models.Model):\n",
    "    text = models.CharField(max_length=255, help_text=\"Text of the button\")\n",
    "    url = models.URLField(null=True, blank=True, help_text=\"Optional. HTTP or tg:// URL to be opened when the button is pressed. Links tg://user?id=<user_id> can be used to mention a user by their ID without using a username, if this is allowed by their privacy settings.\")\n",
    "    callback_data = models.CharField(max_length=255, null=True, blank=True, help_text=\"Optional. Data to be sent in a callback query to the bot when the button is pressed, 1-64 bytes\")\n",
    "    \n",
    "\n",
    "class InlineKeyboardMarkup(Keyboard):\n",
    "    inline_keyboard = models.ManyToManyField(InlineKeyboardButton, related_name=\"inline_keyboards\", help_text=\"Array of button rows, each represented by an Array of InlineKeyboardButton objects\")\n",
    "\n",
    "    def __str__(self) -> str:\n",
    "        return f\"InlineKeyboardMarkup ({self.inline_keyboard.count()} rows)\"\n",
    "\n",
    "class KeyboardButton(models.Model):\n",
    "    text = models.CharField(max_length=255, help_text=\"Text of the button\")\n",
    "    request_contact = models.BooleanField(default=False, help_text=\"Optional. If True, the user's phone number will be sent as a contact when the button is pressed. Available in private chats only.\")\n",
    "    request_location = models.BooleanField(default=False, help_text=\"Optional. If True, the user's current location will be sent when the button is pressed. Available in private chats only.\")\n",
    "\n",
    "class ReplyKeyboardMarkup(Keyboard):\n",
    "    keyboard = models.ManyToManyField(KeyboardButton, related_name=\"reply_keyboards\", help_text=\"Array of button rows, each represented by an Array of KeyboardButton objects\")\n",
    "    is_persistent = models.BooleanField(default=False, help_text=\"Optional. Requests clients to always show the keyboard when the user opens the chat. Defaults to false, in which case the custom keyboard disappears after one use\")\n",
    "    resize_keyboard = models.BooleanField(default=False, help_text=\"Requests clients to resize the keyboard vertically for optimal fit\")\n",
    "    one_time_keyboard = models.BooleanField(default=False, help_text=\"Requests clients to hide the keyboard as soon as it's been used\")\n",
    "    input_field_placeholder = models.CharField(max_length=255, help_text=\"Optional. The placeholder to be shown in the input field when the keyboard is active; 1-64 characters, 0-words\")\n",
    "    selective = models.BooleanField(default=False, help_text=\"Optional. Use this parameter if you want to show the keyboard to specific users only. Targets: 1) users that are @mentioned in the text of the Message object; 2) if the bot's message is a reply to a message in the same chat and forum topic, sender of the original message.\")\n",
    "    \n",
    "    def __str__(self) -> str:\n",
    "        return f\"ReplyKeyboardMarkup ({self.keyboard.count()} rows)\"\n",
    "\n",
    "\n",
    "class ReplyKeyboardRemove(Keyboard):\n",
    "    remove_keyboard = models.BooleanField(default=True, help_text=\"Requests clients to remove the custom keyboard (user will not be able to summon this keyboard; if you want to hide the keyboard from sight but keep it accessible, use one_time_keyboard in ReplyKeyboardMarkup)\",\n",
    "    )\n",
    "    selective = models.BooleanField(default=False, help_text=\"Use this parameter if you want to remove the keyboard for specific users only\")\n",
    "    \n",
    "    def __str__(self) -> str:\n",
    "        return \"ReplyKeyboardRemove\"\n",
    "\n",
    "\n",
    "class ForceReply(Keyboard):\n",
    "    force_reply = models.BooleanField(\n",
    "        default=True,\n",
    "        help_text=\"Shows reply interface to the user, as if they manually selected the bot's message and tapped 'Reply'\",\n",
    "    )\n",
    "    input_field_placeholder = models.CharField(\n",
    "        max_length=64,\n",
    "        help_text=\"Optional. The placeholder to be shown in the input field when the reply is active; 1-64 characters\",\n",
    "    )\n",
    "    selective = models.BooleanField(default=False, help_text=\"Use this parameter if you want to force reply from specific users only\")\n",
    "    \n",
    "    def __str__(self) -> str:\n",
    "        return \"ForceReply\"\n",
    "        \n",
    "class Component(models.Model):\n",
    "    class ComponentType(models.TextChoices):\n",
    "        TELEGRAM = \"TELEGRAM\", \"Telegram API Component\"\n",
    "        TRIGGER = \"TRIGGER\", \"Trigger Component\"\n",
    "        CONDITIONAL = \"CONDITIONAL\", \"Conditional Component\"\n",
    "        CODE = \"CODE\", \"Code Component\"\n",
    "\n",
    "    component_type = models.CharField(\n",
    "        max_length=20,\n",
    "        choices=ComponentType.choices,\n",
    "        default=ComponentType.TELEGRAM,\n",
    "        help_text=\"Type of the component\"\n",
    "    )\n",
    "    timestamp = models.DateTimeField(auto_now_add=True)\n",
    "\n",
    "    class Meta:\n",
    "        pass\n",
    "\n",
    "\"\"\")\n",
    "    not_supported = []\n",
    "\n",
    "    for i, method in enumerate(all_methods):\n",
    "        if i < 2:\n",
    "            continue\n",
    "        name = method[0]\n",
    "        comment = method[1]\n",
    "        body = re.findall(table_body_pattern, method[2])\n",
    "        file.write(f\"class {name[0].upper()+name[1:]}(Component):\\n\")\n",
    "        file.write(f\"    \\\"\\\"\\\"{text_cleaner(comment)}\\\"\\\"\\\"\\n\\n\")\n",
    "        required_fields = []\n",
    "\n",
    "        # print(f\"class {name[0].upper()+name[1:]}(TelegramComponent):\")\n",
    "        for item in body:\n",
    "            type_field = text_cleaner(item[1])\n",
    "            django_field = \"\"\n",
    "            keyboard_field = \"\"\n",
    "            django_param = \"\"\n",
    "\n",
    "            if item[2] == 'Optional' or item[0] == 'thumbnail':\n",
    "                django_param = \"null=True, blank=True,\"\n",
    "            elif item[2] == 'Yes':\n",
    "                django_param = \"null=True, blank=True,\"\n",
    "                required_fields.append(item[0])\n",
    "\n",
    "            match = re.search(max_char_pattern, text_cleaner(item[3]))\n",
    "            if match:\n",
    "                extracted_number = int(match.group(1))  # Convert to integer\n",
    "                django_param += f\" max_length = {extracted_number},\"\n",
    "\n",
    "            django_param += f\" help_text=\\\"{text_cleaner(item[3])}\\\"\"\n",
    "\n",
    "            if type_field == 'String' or type_field == 'Integer or String':\n",
    "                django_field = f\" = models.CharField({django_param})\"\n",
    "            elif type_field == 'Boolean':\n",
    "                django_field = f\" = models.BooleanField({django_param})\"\n",
    "            elif type_field == 'Integer':\n",
    "                django_field = f\" = models.IntegerField({django_param})\"\n",
    "            elif type_field == 'Array of Integer':\n",
    "                django_field = f\"= ArrayField(models.IntegerField(), default=list, {django_param})\"\n",
    "            elif type_field == 'Array of String':\n",
    "                django_field = f\"= ArrayField(models.CharField(), default=list, {django_param})\"\n",
    "            elif type_field == 'Float':\n",
    "                django_field = f\" = models.FloatField({django_param})\"\n",
    "            elif type_field == 'InputFile or String':\n",
    "                django_field = f\" =  models.FileField(upload_to=\\\"{item[0]}/\\\", {django_param})\"\n",
    "            elif type_field == 'InlineKeyboardMarkup or ReplyKeyboardMarkup or ReplyKeyboardRemove or ForceReply':\n",
    "                keyboard_field = f\"    content_type = models.ForeignKey(ContentType, on_delete=models.CASCADE, limit_choices_to=Q(model='inlinekeyboardmarkup') | Q(model='replykeyboardmarkup') | Q(model='replykeyboardremove') | Q(model='forcereply'), {django_param})\"\n",
    "                keyboard_field += f\"\\n    object_id = models.PositiveIntegerField(null=True, blank=True)\"\n",
    "                keyboard_field += f\"\\n    related_to_main = GenericForeignKey(\\\"content_type\\\", \\\"object_id\\\")\"\n",
    "            elif type_field == 'InlineKeyboardMarkup':\n",
    "                keyboard_field = f\"    content_type = models.ForeignKey(ContentType, on_delete=models.CASCADE, limit_choices_to=Q(model='inlinekeyboardmarkup'), {django_param})\"\n",
    "                keyboard_field += f\"\\n    object_id = models.PositiveIntegerField(null=True, blank=True)\"\n",
    "                keyboard_field += f\"\\n    related_to_main = GenericForeignKey(\\\"content_type\\\", \\\"object_id\\\")\"\n",
    "            else:\n",
    "                if type_field not in not_supported:\n",
    "                    not_supported.append(type_field)\n",
    "                \n",
    "            if django_field:\n",
    "                file.write(f\"    {item[0]}{django_field}\\n\")\n",
    "            if keyboard_field:\n",
    "                file.write(f\"{keyboard_field}\\n\")\n",
    "\n",
    "        file.write(f\"    @property\\n\")\n",
    "        file.write(f\"    def required_fields(self) -> list:\\n\")\n",
    "        file.write(f\"        return {required_fields}\\n\")\n",
    "\n",
    "        file.write(\"\\n\\n\")\n",
    "file.close()\n",
    "print(f\"not supported: {len(not_supported)}\")\n",
    "print(not_supported)"
   ],
   "outputs": [
    {
     "name": "stdout",
     "output_type": "stream",
     "text": [
      "not supported: 26\n",
      "['Array of MessageEntity', 'LinkPreviewOptions', 'ReplyParameters', 'Array of InputPaidMedia', 'Array of InputMediaAudio, InputMediaDocument, InputMediaPhoto and InputMediaVideo', 'Array of InputPollOption', 'Array of ReactionType', 'ChatPermissions', 'InputFile', 'Array of BotCommand', 'BotCommandScope', 'MenuButton', 'ChatAdministratorRights', 'InputMedia', 'InputProfilePhoto', 'AcceptedGiftTypes', 'InputStoryContent', 'Array of StoryArea', 'Array of InputSticker', 'InputSticker', 'MaskPosition', 'Array of InlineQueryResult', 'InlineQueryResultsButton', 'InlineQueryResult', 'Array of LabeledPrice', 'Array of ShippingOption']\n"
     ]
    }
   ],
   "execution_count": 91
  },
  {
   "cell_type": "code",
   "id": "86d8935e4565554a",
   "metadata": {
    "ExecuteTime": {
     "end_time": "2025-05-01T05:56:08.301148Z",
     "start_time": "2025-05-01T05:56:08.297885Z"
    }
   },
   "source": [
    "with open('../component/telegram/serializers.py', 'w') as file:\n",
    "    file.write(\"\"\"from rest_framework import serializers\n",
    "from component.telegram.models import *\n",
    "\n",
    "\n",
    "\"\"\")\n",
    "    for i, method in enumerate(all_methods):\n",
    "        if i < 2:\n",
    "            continue\n",
    "        name = method[0]\n",
    "        comment = method[1]\n",
    "        file.write(f\"class {name[0].upper()+name[1:]}Serializer(serializers.ModelSerializer):\\n\")\n",
    "        file.write(f\"    class Meta:\\n\")\n",
    "        file.write(f\"        model = {name[0].upper()+name[1:]}\\n\")\n",
    "        file.write(f\"        depth = 1\\n\")\n",
    "        file.write(f\"        fields = \\\"__all__\\\"\")\n",
    "        file.write(\"\\n\\n\")\n",
    "file.close()"
   ],
   "outputs": [],
   "execution_count": 92
  },
  {
   "cell_type": "code",
   "id": "1e39353c535e21ba",
   "metadata": {
    "ExecuteTime": {
     "end_time": "2025-05-01T05:56:08.342953Z",
     "start_time": "2025-05-01T05:56:08.339860Z"
    }
   },
   "source": [
    "with open('../component/telegram/views.py', 'w') as file:\n",
    "    file.write(\"\"\"from rest_framework.viewsets import ModelViewSet\n",
    "from component.telegram.serializers import *\n",
    "\n",
    "\n",
    "\"\"\")\n",
    "    for i, method in enumerate(all_methods):\n",
    "        if i < 2:\n",
    "            continue\n",
    "        name = method[0]\n",
    "        comment = method[1]\n",
    "        correct_name = name[0].upper()+name[1:]\n",
    "        file.write(f\"class {correct_name}ViewSet(ModelViewSet):\\n\")\n",
    "        file.write(f\"    serializer_class = {correct_name}Serializer\\n\")\n",
    "        file.write(f\"    queryset = {correct_name}.objects.all()\\n\")\n",
    "        file.write(\"\\n\\n\")\n",
    "file.close()"
   ],
   "outputs": [],
   "execution_count": 93
  },
  {
   "cell_type": "code",
   "id": "60dc33d27c71666",
   "metadata": {
    "ExecuteTime": {
     "end_time": "2025-05-01T05:56:08.389925Z",
     "start_time": "2025-05-01T05:56:08.386033Z"
    }
   },
   "source": [
    "with open('../component/telegram/urls.py', 'w') as file:\n",
    "    file.write(\"\"\"from django.urls import include, path\n",
    "from rest_framework.routers import DefaultRouter\n",
    "\n",
    "from component.telegram.views import *\n",
    "router = DefaultRouter()\n",
    "\n",
    "               \n",
    "\"\"\")\n",
    "    for i, method in enumerate(all_methods):\n",
    "        if i < 2:\n",
    "            continue\n",
    "        name = method[0]\n",
    "        comment = method[1]\n",
    "        correct_name = name[0].upper()+name[1:]\n",
    "        under_lined_name = \"\"\n",
    "        for char in name:\n",
    "            if char.isupper():\n",
    "                under_lined_name += \"-\"+char.lower()\n",
    "            else:\n",
    "                under_lined_name += char\n",
    "\n",
    "        file.write(f\"router.register(r\\\"{under_lined_name}\\\", {correct_name}ViewSet)\\n\")\n",
    "\n",
    "    file.write(\"\"\"\n",
    "\n",
    "urlpatterns = [\n",
    "    path(\"\", include(router.urls)),\n",
    "]\n",
    "\"\"\")\n",
    "file.close()"
   ],
   "outputs": [],
   "execution_count": 94
  },
  {
   "cell_type": "code",
   "id": "ef2d5e8929964fed",
   "metadata": {
    "ExecuteTime": {
     "end_time": "2025-05-01T05:56:16.169578Z",
     "start_time": "2025-05-01T05:56:14.993462Z"
    }
   },
   "source": [
    "!python -m black ../component/*"
   ],
   "outputs": [
    {
     "name": "stdout",
     "output_type": "stream",
     "text": [
      "\u001B[1mreformatted /home/ali/Documents/nocode/backend/component/telegram/urls.py\u001B[0m\r\n",
      "\u001B[1mreformatted /home/ali/Documents/nocode/backend/component/telegram/models.py\u001B[0m\r\n",
      "\r\n",
      "\u001B[1mAll done! ✨ 🍰 ✨\u001B[0m\r\n",
      "\u001B[34m\u001B[1m2 files \u001B[0m\u001B[1mreformatted\u001B[0m, \u001B[34m14 files \u001B[0mleft unchanged.\r\n"
     ]
    }
   ],
   "execution_count": 97
  },
  {
   "cell_type": "code",
   "id": "3929d49e5238309c",
   "metadata": {
    "ExecuteTime": {
     "end_time": "2025-05-01T05:56:19.635278Z",
     "start_time": "2025-05-01T05:56:18.128833Z"
    }
   },
   "source": [
    "!pre-commit run --all-files"
   ],
   "outputs": [
    {
     "name": "stdout",
     "output_type": "stream",
     "text": [
      "isort....................................................................\u001B[42mPassed\u001B[m\r\n",
      "black....................................................................\u001B[42mPassed\u001B[m\r\n",
      "Add trailing commas......................................................\u001B[42mPassed\u001B[m\r\n",
      "trim trailing whitespace.................................................\u001B[42mPassed\u001B[m\r\n",
      "mypy.....................................................................\u001B[41mFailed\u001B[m\r\n",
      "\u001B[2m- hook id: mypy\u001B[m\r\n",
      "\u001B[2m- exit code: 1\u001B[m\r\n",
      "\r\n",
      "nocodi/middleware.py:11: \u001B[1m\u001B[31merror:\u001B[m Need type annotation for \u001B[m\u001B[1m\"cache\"\u001B[m (hint: \u001B[m\u001B[1m\"cache: dict[<type>, <type>] = ...\"\u001B[m)  \u001B[m\u001B[33m[var-annotated]\u001B[m\r\n",
      "bot/views.py:1: \u001B[1m\u001B[31merror:\u001B[m Library stubs not installed for \u001B[m\u001B[1m\"requests\"\u001B[m  \u001B[m\u001B[33m[import-untyped]\u001B[m\r\n",
      "bot/views.py:1: \u001B[34mnote:\u001B[m Hint: \u001B[m\u001B[1m\"python3 -m pip install types-requests\"\u001B[m\u001B[m\r\n",
      "bot/views.py:1: \u001B[34mnote:\u001B[m (or run \u001B[m\u001B[1m\"mypy --install-types\"\u001B[m to install all missing stub packages)\u001B[m\r\n",
      "bot/views.py:1: \u001B[34mnote:\u001B[m See \u001B[4mhttps://mypy.readthedocs.io/en/stable/running_mypy.html#missing-imports\u001B[m\u001B[m\r\n",
      "bot/views.py:73: \u001B[1m\u001B[31merror:\u001B[m Function is missing a return type annotation  \u001B[m\u001B[33m[no-untyped-def]\u001B[m\r\n",
      "bot/views.py:73: \u001B[1m\u001B[31merror:\u001B[m Function is missing a type annotation for one or more arguments  \u001B[m\u001B[33m[no-untyped-def]\u001B[m\r\n",
      "flow/views.py:1: \u001B[1m\u001B[31merror:\u001B[m Library stubs not installed for \u001B[m\u001B[1m\"requests\"\u001B[m  \u001B[m\u001B[33m[import-untyped]\u001B[m\r\n",
      "\u001B[1m\u001B[31mFound 5 errors in 3 files (checked 53 source files)\u001B[m\r\n",
      "\r\n"
     ]
    }
   ],
   "execution_count": 98
  }
 ],
 "metadata": {
  "kernelspec": {
   "display_name": ".venv",
   "language": "python",
   "name": "python3"
  },
  "language_info": {
   "codemirror_mode": {
    "name": "ipython",
    "version": 3
   },
   "file_extension": ".py",
   "mimetype": "text/x-python",
   "name": "python",
   "nbconvert_exporter": "python",
   "pygments_lexer": "ipython3",
   "version": "3.11.12"
  }
 },
 "nbformat": 4,
 "nbformat_minor": 5
}