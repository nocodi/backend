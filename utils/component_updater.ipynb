{
 "cells": [
  {
   "cell_type": "code",
   "execution_count": 1,
   "id": "initial_id",
   "metadata": {
    "ExecuteTime": {
     "end_time": "2025-04-18T18:57:03.498695Z",
     "start_time": "2025-04-18T18:57:03.414971Z"
    },
    "collapsed": true
   },
   "outputs": [],
   "source": [
    "import re\n",
    "import requests\n",
    "from bs4 import BeautifulSoup"
   ]
  },
  {
   "cell_type": "code",
   "execution_count": 2,
   "id": "c9f426c907d39913",
   "metadata": {
    "ExecuteTime": {
     "end_time": "2025-04-18T18:57:03.514109Z",
     "start_time": "2025-04-18T18:57:03.510739Z"
    }
   },
   "outputs": [],
   "source": [
    "proxies = {\n",
    "    \"http\": \"http://127.0.0.1:2080\",  # Replace with your proxy address\n",
    "    \"https\": \"http://127.0.0.1:2080\"  # For HTTPS requests as well\n",
    "}\n"
   ]
  },
  {
   "cell_type": "code",
   "execution_count": 3,
   "id": "40f0e82542f522c1",
   "metadata": {
    "ExecuteTime": {
     "end_time": "2025-04-18T18:57:19.175749Z",
     "start_time": "2025-04-18T18:57:16.858270Z"
    }
   },
   "outputs": [],
   "source": [
    "res = requests.get(\"https://core.telegram.org/bots/api\", proxies=proxies)"
   ]
  },
  {
   "cell_type": "code",
   "execution_count": 4,
   "id": "ae1e8b23f5c23dc6",
   "metadata": {
    "ExecuteTime": {
     "end_time": "2025-04-18T18:57:19.189076Z",
     "start_time": "2025-04-18T18:57:19.184434Z"
    }
   },
   "outputs": [],
   "source": [
    "pattern = r'<h4><a class=\\\"anchor\\\" name=\\\".*?\\\" href=\\\".*?\\\"><i class=\\\"anchor-icon\\\"><\\/i><\\/a>(.*?)<\\/h4>\\s+<p>(.*?)<\\/p>\\s+<table class=\\\"table\\\">\\s+<thead>\\s+<tr>\\s+<th>Parameter<\\/th>\\s+<th>Type<\\/th>\\s+<th>Required<\\/th>\\s+<th>Description<\\/th>\\s+<\\/tr>\\s+<\\/thead>\\s+<tbody.*?>([\\s\\S]*?)<\\/tbody>'"
   ]
  },
  {
   "cell_type": "code",
   "execution_count": 5,
   "id": "29c8fb1dff77f41c",
   "metadata": {
    "ExecuteTime": {
     "end_time": "2025-04-18T18:57:23.818628Z",
     "start_time": "2025-04-18T18:57:23.808965Z"
    }
   },
   "outputs": [],
   "source": [
    "all_methods = re.findall(pattern, res.text)"
   ]
  },
  {
   "cell_type": "code",
   "execution_count": 6,
   "id": "85f8a5da061ed4a1",
   "metadata": {
    "ExecuteTime": {
     "end_time": "2025-04-18T18:57:23.827372Z",
     "start_time": "2025-04-18T18:57:23.824791Z"
    }
   },
   "outputs": [],
   "source": [
    "table_body_pattern = r'<tr>\\s+<td>(.*?)</td>\\s+<td>(.*?)</td>\\s+<td>(.*?)</td>\\s+<td>(.*?)</td>\\s+</tr>'"
   ]
  },
  {
   "cell_type": "code",
   "execution_count": 7,
   "id": "ca64487b33fe0082",
   "metadata": {
    "ExecuteTime": {
     "end_time": "2025-04-18T18:57:24.639919Z",
     "start_time": "2025-04-18T18:57:24.636882Z"
    }
   },
   "outputs": [],
   "source": [
    "max_char_pattern = r'-(\\d+) characters'"
   ]
  },
  {
   "cell_type": "code",
   "execution_count": 8,
   "id": "a7b3feaca0bf5a65",
   "metadata": {
    "ExecuteTime": {
     "end_time": "2025-04-18T18:57:26.394585Z",
     "start_time": "2025-04-18T18:57:26.389409Z"
    }
   },
   "outputs": [],
   "source": [
    "def text_cleaner(text):\n",
    "    return BeautifulSoup(text, 'html.parser').get_text().replace('\"', '\\\\\"')"
   ]
  },
  {
   "cell_type": "code",
   "execution_count": 38,
   "id": "b8277c6cbd6e0c1b",
   "metadata": {
    "ExecuteTime": {
     "end_time": "2025-04-18T18:58:02.888496Z",
     "start_time": "2025-04-18T18:58:02.792249Z"
    }
   },
   "outputs": [
    {
     "name": "stdout",
     "output_type": "stream",
     "text": [
      "not supported: 26\n",
      "['Array of MessageEntity', 'LinkPreviewOptions', 'ReplyParameters', 'Array of InputPaidMedia', 'Array of InputMediaAudio, InputMediaDocument, InputMediaPhoto and InputMediaVideo', 'Array of InputPollOption', 'Array of ReactionType', 'ChatPermissions', 'InputFile', 'Array of BotCommand', 'BotCommandScope', 'MenuButton', 'ChatAdministratorRights', 'InputMedia', 'InputProfilePhoto', 'AcceptedGiftTypes', 'InputStoryContent', 'Array of StoryArea', 'Array of InputSticker', 'InputSticker', 'MaskPosition', 'Array of InlineQueryResult', 'InlineQueryResultsButton', 'InlineQueryResult', 'Array of LabeledPrice', 'Array of ShippingOption']\n"
     ]
    }
   ],
   "source": [
    "with open('../component/telegram/models.py', 'w') as file:\n",
    "    file.write(\"\"\"from typing import List\n",
    "               \n",
    "from django.contrib.postgres.fields import ArrayField\n",
    "from django.db import models\n",
    "from django.contrib.contenttypes.fields import GenericForeignKey\n",
    "from django.contrib.contenttypes.models import ContentType\n",
    "from django.db.models import Q\n",
    "from django.forms.models import model_to_dict\n",
    "\n",
    "\n",
    "\n",
    "class Keyboard(models.Model):\n",
    "    timestamp = models.DateTimeField(auto_now_add=True)\n",
    "    \n",
    "    class Meta:\n",
    "        pass\n",
    "\n",
    "\n",
    "class InlineKeyboardButton(models.Model):\n",
    "    text = models.CharField(max_length=255, help_text=\"Text of the button\")\n",
    "    url = models.URLField(null=True, blank=True, help_text=\"Optional. HTTP or tg:// URL to be opened when the button is pressed. Links tg://user?id=<user_id> can be used to mention a user by their ID without using a username, if this is allowed by their privacy settings.\")\n",
    "    callback_data = models.CharField(max_length=255, null=True, blank=True, help_text=\"Optional. Data to be sent in a callback query to the bot when the button is pressed, 1-64 bytes\")\n",
    "    \n",
    "\n",
    "class InlineKeyboardMarkup(Keyboard):\n",
    "    inline_keyboard = models.ManyToManyField(InlineKeyboardButton, related_name=\"inline_keyboards\", help_text=\"Array of button rows, each represented by an Array of InlineKeyboardButton objects\")\n",
    "\n",
    "    def __str__(self) -> str:\n",
    "        return f\"InlineKeyboardMarkup ({self.inline_keyboard.count()} rows)\"\n",
    "\n",
    "class KeyboardButton(models.Model):\n",
    "    text = models.CharField(max_length=255, help_text=\"Text of the button\")\n",
    "    request_contact = models.BooleanField(default=False, help_text=\"Optional. If True, the user's phone number will be sent as a contact when the button is pressed. Available in private chats only.\")\n",
    "    request_location = models.BooleanField(default=False, help_text=\"Optional. If True, the user's current location will be sent when the button is pressed. Available in private chats only.\")\n",
    "\n",
    "class ReplyKeyboardMarkup(Keyboard):\n",
    "    keyboard = models.ManyToManyField(KeyboardButton, related_name=\"reply_keyboards\", help_text=\"Array of button rows, each represented by an Array of KeyboardButton objects\")\n",
    "    is_persistent = models.BooleanField(default=False, help_text=\"Optional. Requests clients to always show the keyboard when the user opens the chat. Defaults to false, in which case the custom keyboard disappears after one use\")\n",
    "    resize_keyboard = models.BooleanField(default=False, help_text=\"Requests clients to resize the keyboard vertically for optimal fit\")\n",
    "    one_time_keyboard = models.BooleanField(default=False, help_text=\"Requests clients to hide the keyboard as soon as it's been used\")\n",
    "    input_field_placeholder = models.CharField(max_length=255, help_text=\"Optional. The placeholder to be shown in the input field when the keyboard is active; 1-64 characters, 0-words\")\n",
    "    selective = models.BooleanField(default=False, help_text=\"Optional. Use this parameter if you want to show the keyboard to specific users only. Targets: 1) users that are @mentioned in the text of the Message object; 2) if the bot's message is a reply to a message in the same chat and forum topic, sender of the original message.\")\n",
    "    \n",
    "    def __str__(self) -> str:\n",
    "        return f\"ReplyKeyboardMarkup ({self.keyboard.count()} rows)\"\n",
    "\n",
    "\n",
    "class ReplyKeyboardRemove(Keyboard):\n",
    "    remove_keyboard = models.BooleanField(default=True, help_text=\"Requests clients to remove the custom keyboard (user will not be able to summon this keyboard; if you want to hide the keyboard from sight but keep it accessible, use one_time_keyboard in ReplyKeyboardMarkup)\")\n",
    "    selective = models.BooleanField(default=False, help_text=\"Use this parameter if you want to remove the keyboard for specific users only\")\n",
    "    \n",
    "    def __str__(self) -> str:\n",
    "        return \"ReplyKeyboardRemove\"\n",
    "\n",
    "\n",
    "class ForceReply(Keyboard):\n",
    "    force_reply = models.BooleanField(\n",
    "        default=True,\n",
    "        help_text=\"Shows reply interface to the user, as if they manually selected the bot's message and tapped 'Reply'\",\n",
    "    )\n",
    "    input_field_placeholder = models.CharField(\n",
    "        max_length=64,\n",
    "        help_text=\"Optional. The placeholder to be shown in the input field when the reply is active; 1-64 characters\",\n",
    "    )\n",
    "    selective = models.BooleanField(\n",
    "        default=False,\n",
    "        help_text=\"Use this parameter if you want to force reply from specific users only\",\n",
    "    )\n",
    "\n",
    "    def __str__(self) -> str:\n",
    "        return \"ForceReply\"\n",
    "               \n",
    "               \n",
    "class Component(models.Model):\n",
    "    class ComponentType(models.TextChoices):\n",
    "        TELEGRAM = \"TELEGRAM\", \"Telegram API Component\"\n",
    "        TRIGGER = \"TRIGGER\", \"Trigger Component\"\n",
    "        CONDITIONAL = \"CONDITIONAL\", \"Conditional Component\"\n",
    "        CODE = \"CODE\", \"Code Component\"\n",
    "\n",
    "    component_type = models.CharField(\n",
    "        max_length=20,\n",
    "        choices=ComponentType.choices,\n",
    "        default=ComponentType.TELEGRAM,\n",
    "        help_text=\"Type of the component\",\n",
    "    )\n",
    "\n",
    "    def save(self, *args: list, **kwargs: dict) -> None:\n",
    "        if self.pk is None:\n",
    "            self.component_content_type = ContentType.objects.get(\n",
    "                model=self.__class__.__name__.lower(),\n",
    "            )\n",
    "        super().save(*args, **kwargs)\n",
    "\n",
    "    component_content_type = models.ForeignKey(\n",
    "        ContentType,\n",
    "        on_delete=models.CASCADE,\n",
    "        null=True,\n",
    "        blank=True,\n",
    "    )\n",
    "    component_name = models.CharField(\n",
    "        max_length=255,\n",
    "        null=True,\n",
    "    )  # in order to not interfere with some component 'name' field, I added redundant 'component'\n",
    "\n",
    "    bot = models.ForeignKey(\"bot.Bot\", on_delete=models.CASCADE)\n",
    "\n",
    "    previous_component = models.ForeignKey(\n",
    "        \"Component\",\n",
    "        on_delete=models.PROTECT,\n",
    "        null=True,\n",
    "        blank=True,\n",
    "        related_name=\"next_component\",\n",
    "    )\n",
    "\n",
    "    position_x = models.FloatField(null=False, blank=False)\n",
    "    position_y = models.FloatField(null=False, blank=False)\n",
    "\n",
    "    def __str__(self) -> str:\n",
    "        return self.component_name or \"Empty Component\"\n",
    "\n",
    "    class Meta:\n",
    "        pass\n",
    "\n",
    "    @property\n",
    "    def code_function_name(self) -> str:  # -> name of the function in generated code\n",
    "        return f\"{self.__class__.__name__.lower()}_{self.pk}\"\n",
    "\n",
    "    def generate_code(self) -> str:\n",
    "        if self.component_type != Component.ComponentType.TELEGRAM:\n",
    "            raise NotImplementedError\n",
    "\n",
    "        underlying_object = self.component_content_type.model_class().objects.get(\n",
    "            pk=self.pk,\n",
    "        )\n",
    "        class_name = underlying_object.__class__.__name__\n",
    "        method = \"\"\n",
    "        for c in class_name:\n",
    "            if c.isupper():\n",
    "                method += \"_\"\n",
    "            method += c.lower()\n",
    "        method = method.lstrip(\"_\")\n",
    "\n",
    "        code = [f\"async def {underlying_object.code_function_name}(input_data: dict):\"]\n",
    "        if underlying_object.content_type:\n",
    "            keyboard = underlying_object.content_type.get_object_for_this_type()\n",
    "        else:\n",
    "            keyboard = None\n",
    "\n",
    "        if isinstance(keyboard, InlineKeyboardMarkup):\n",
    "            code.extend([\"    builder = InlineKeyboardBuilder()\"])\n",
    "            for k in keyboard.inline_keyboard.all():\n",
    "                code.extend(\n",
    "                    [\n",
    "                        f\"    builder.button(text='{k.text}', callback_data='{k.callback_data}')\",\n",
    "                    ],\n",
    "                )\n",
    "            code.extend([\"    keyboard = builder.as_markup()\"])\n",
    "        #     for k in keyboard.inline_keyboard.all():\n",
    "        #         builder.button(text=k.text, callback_data=k.callback_data)\n",
    "        #     keyboard = builder.as_markup()\n",
    "        # else:\n",
    "        #     print(\"KEYBOARD\")\n",
    "\n",
    "        component_data = model_to_dict(\n",
    "            underlying_object,\n",
    "            exclude=[\n",
    "                \"id\",\n",
    "                \"component_ptr\",\n",
    "                \"component_ptr_id\",\n",
    "                \"timestamp\",\n",
    "                \"object_id\",\n",
    "                \"component_type\",\n",
    "                \"content_type\",\n",
    "                \"component_content_type\",\n",
    "                \"bot\",\n",
    "                \"previous_component\",\n",
    "                \"position_x\",\n",
    "                \"position_y\",\n",
    "            ],\n",
    "        )\n",
    "        param_strings = []\n",
    "        for k, v in component_data.items():\n",
    "            if v is not None:\n",
    "                if isinstance(v, str):\n",
    "                    param_strings.append(f\"{k}='{v}'\")\n",
    "                else:\n",
    "                    param_strings.append(f\"{k}={v}\")\n",
    "\n",
    "        if keyboard:\n",
    "            param_strings.append(f\"reply_markup=keyboard\")\n",
    "\n",
    "        params_str = \", \".join(param_strings)\n",
    "        code.extend(\n",
    "            [\n",
    "                f\"    await bot.{method}({params_str})\",\n",
    "            ],\n",
    "        )\n",
    "        for next_component in underlying_object.next_component.all():\n",
    "            next_component = (\n",
    "                next_component.component_content_type.model_class().objects.get(\n",
    "                    pk=next_component.pk,\n",
    "                )\n",
    "            )\n",
    "            code.extend(\n",
    "                [\n",
    "                    f\"    await {next_component.code_function_name}(input_data)\",\n",
    "                ],\n",
    "            )\n",
    "        return \"\\\\n\".join(code)\n",
    "\n",
    "    def get_all_next_components(self) -> List[\"Component\"]:\n",
    "        ans = {}\n",
    "        stack = [self]\n",
    "        while stack:\n",
    "            current = stack.pop()\n",
    "            if current.id not in ans:\n",
    "                ans[current.id] = current\n",
    "                for next_component in current.next_component.all():\n",
    "                    if next_component.id not in ans:\n",
    "                        stack.append(next_component)\n",
    "        return list(ans.values())\n",
    "\n",
    "\n",
    "\n",
    "\"\"\")\n",
    "    not_supported = []\n",
    "\n",
    "    for i, method in enumerate(all_methods):\n",
    "        if i < 2:\n",
    "            continue\n",
    "        name = method[0]\n",
    "        comment = method[1]\n",
    "        body = re.findall(table_body_pattern, method[2])\n",
    "        file.write(f\"class {name[0].upper()+name[1:]}(Component):\\n\")\n",
    "        file.write(f\"    \\\"\\\"\\\"{text_cleaner(comment)}\\\"\\\"\\\"\\n\\n\")\n",
    "\n",
    "        # print(f\"class {name[0].upper()+name[1:]}(TelegramComponent):\")\n",
    "        for item in body:\n",
    "            type_field = text_cleaner(item[1])\n",
    "            django_field = \"\"\n",
    "            keyboard_field = \"\"\n",
    "\n",
    "            if item[2] == 'Optional' or item[0] == 'thumbnail':\n",
    "                django_param = \"null=True, blank=True,\"\n",
    "            elif item[2] == 'Yes':\n",
    "                django_param = \"null=False, blank=False,\"\n",
    "\n",
    "            match = re.search(max_char_pattern, text_cleaner(item[3]))\n",
    "            if match:\n",
    "                extracted_number = int(match.group(1))  # Convert to integer\n",
    "                django_param += f\" max_length = {extracted_number},\"\n",
    "\n",
    "            django_param += f\" help_text=\\\"{text_cleaner(item[3])}\\\"\"\n",
    "\n",
    "            if type_field == 'String' or type_field == 'Integer or String':\n",
    "                django_field = f\" = models.CharField({django_param})\"\n",
    "            elif type_field == 'Boolean':\n",
    "                django_field = f\" = models.BooleanField({django_param})\"\n",
    "            elif type_field == 'Integer':\n",
    "                django_field = f\" = models.IntegerField({django_param})\"\n",
    "            elif type_field == 'Array of Integer':\n",
    "                django_field = f\"= ArrayField(models.IntegerField(), default=list, {django_param})\"\n",
    "            elif type_field == 'Array of String':\n",
    "                django_field = f\"= ArrayField(models.CharField(), default=list, {django_param})\"\n",
    "            elif type_field == 'Float':\n",
    "                django_field = f\" = models.FloatField({django_param})\"\n",
    "            elif type_field == 'InputFile or String':\n",
    "                django_field = f\" =  models.FileField(upload_to=\\\"{item[0]}/\\\", {django_param})\"\n",
    "            elif type_field == 'InlineKeyboardMarkup or ReplyKeyboardMarkup or ReplyKeyboardRemove or ForceReply':\n",
    "                keyboard_field = f\"    content_type = models.ForeignKey(ContentType, on_delete=models.CASCADE, limit_choices_to=Q(model='inlinekeyboardmarkup') | Q(model='replykeyboardmarkup') | Q(model='replykeyboardremove') | Q(model='forcereply'), null=True, blank=True)\"\n",
    "                keyboard_field += f\"\\n    object_id = models.PositiveIntegerField(null=True, blank=True)\"\n",
    "                keyboard_field += f\"\\n    related_to_main = GenericForeignKey(\\\"content_type\\\", \\\"object_id\\\")\"\n",
    "            elif type_field == 'InlineKeyboardMarkup':\n",
    "                keyboard_field = f\"    content_type = models.ForeignKey(ContentType, on_delete=models.CASCADE, limit_choices_to=Q(model='inlinekeyboardmarkup'), null=True, blank=True)\"\n",
    "                keyboard_field += f\"\\n    object_id = models.PositiveIntegerField(null=True, blank=True)\"\n",
    "                keyboard_field += f\"\\n    related_to_main = GenericForeignKey(\\\"content_type\\\", \\\"object_id\\\")\"\n",
    "            else:\n",
    "                if type_field not in not_supported:\n",
    "                    not_supported.append(type_field)\n",
    "                \n",
    "            if django_field:\n",
    "                file.write(f\"    {item[0]}{django_field}\\n\")\n",
    "            if keyboard_field:\n",
    "                file.write(f\"{keyboard_field}\\n\")\n",
    "\n",
    "        file.write(\"\\n\\n\")\n",
    "file.close()\n",
    "print(f\"not supported: {len(not_supported)}\")\n",
    "print(not_supported)"
   ]
  },
  {
   "cell_type": "code",
   "execution_count": 36,
   "id": "86d8935e4565554a",
   "metadata": {
    "ExecuteTime": {
     "end_time": "2025-03-19T18:17:23.104196Z",
     "start_time": "2025-03-19T18:17:23.101018Z"
    }
   },
   "outputs": [],
   "source": [
    "with open('../component/telegram/serializers.py', 'w') as file:\n",
    "    file.write(\"\"\"from rest_framework import serializers\n",
    "from component.telegram.models import *\n",
    "\n",
    "\n",
    "class ModelSerializerCustom(serializers.ModelSerializer):\n",
    "    def create(self, validated_data: dict) -> Component:\n",
    "        validated_data[\"bot_id\"] = self.context.get(\"bot\")\n",
    "        return super().create(validated_data)\n",
    "               \n",
    "\n",
    "\"\"\")\n",
    "    for i, method in enumerate(all_methods):\n",
    "        if i < 2:\n",
    "            continue\n",
    "        name = method[0]\n",
    "        comment = method[1]\n",
    "        file.write(f\"class {name[0].upper()+name[1:]}Serializer(ModelSerializerCustom):\\n\")\n",
    "        file.write(f\"    class Meta:\\n\")\n",
    "        file.write(f\"        model = {name[0].upper()+name[1:]}\\n\")\n",
    "        # file.write(f\"        depth = 1\\n\")\n",
    "        file.write(f\"        exclude = [\\'component_type\\', \\'bot\\', \\'component_content_type\\']\\n\")\n",
    "        file.write(\"\\n\\n\")\n",
    "file.close()"
   ]
  },
  {
   "cell_type": "code",
   "execution_count": 39,
   "id": "1e39353c535e21ba",
   "metadata": {
    "ExecuteTime": {
     "end_time": "2025-03-19T18:17:23.157364Z",
     "start_time": "2025-03-19T18:17:23.150152Z"
    }
   },
   "outputs": [],
   "source": [
    "with open('../component/telegram/views.py', 'w') as file:\n",
    "    file.write(\"\"\"from rest_framework.viewsets import ModelViewSet\n",
    "from component.telegram.serializers import *\n",
    "from iam.permissions import IsLoginedPermission\n",
    "from bot.permissions import IsBotOwner\n",
    "from django.db.models import QuerySet\n",
    "\n",
    "\n",
    "class ModelViewSetCustom(ModelViewSet):\n",
    "    def get_serializer_context(self) -> dict:\n",
    "        context = super().get_serializer_context()\n",
    "        context[\"bot\"] = self.kwargs.get(\"bot\")\n",
    "        return context\n",
    "               \n",
    "    def get_queryset(self) -> QuerySet:\n",
    "        return self.get_queryset().filter(bot=self.kwargs.get(\"bot\"))\n",
    "               \n",
    "               \n",
    "\"\"\")\n",
    "    # def get_queryset(self) -> QuerySet:\n",
    "    #     return Flow.objects.filter(bot=self.kwargs.get(\"bot\"))\n",
    "\n",
    "    # def get_serializer_context(self) -> dict:\n",
    "    #     context = super().get_serializer_context()\n",
    "    #     context[\"bot\"] = self.kwargs.get(\"bot\")\n",
    "    #     return context\n",
    "    for i, method in enumerate(all_methods):\n",
    "        if i < 2:\n",
    "            continue\n",
    "        name = method[0]\n",
    "        comment = method[1]\n",
    "        correct_name = name[0].upper()+name[1:]\n",
    "        file.write(f\"class {correct_name}ViewSet(ModelViewSetCustom):\\n\")\n",
    "        file.write(f\"    permission_classes = [IsLoginedPermission, IsBotOwner]\\n\")\n",
    "        file.write(f\"    serializer_class = {correct_name}Serializer\\n\")\n",
    "        file.write(f\"    queryset = {correct_name}.objects.all()\\n\")\n",
    "        # file.write(\"\\n\")\n",
    "        # file.write(f\"    def get_queryset(self) -> QuerySet:\\n\")\n",
    "        # file.write(f\"        return {correct_name}.objects.filter(bot=self.kwargs.get('bot'))\\n\")\n",
    "        # file.write(\"\\n\")\n",
    "        # file.write(f\"    def get_serializer_context(self) -> dict:\\n\")\n",
    "        # file.write(f\"        context = super().get_serializer_context()\\n\")\n",
    "        # file.write(f\"        context['bot'] = self.kwargs.get('bot')\\n\")\n",
    "        # file.write(f\"        return context\\n\")\n",
    "        file.write(\"\\n\\n\")\n",
    "\n",
    "\n",
    "file.close()"
   ]
  },
  {
   "cell_type": "code",
   "execution_count": 66,
   "id": "60dc33d27c71666",
   "metadata": {
    "ExecuteTime": {
     "end_time": "2025-03-19T18:17:23.214298Z",
     "start_time": "2025-03-19T18:17:23.205544Z"
    }
   },
   "outputs": [],
   "source": [
    "with open('../component/telegram/urls.py', 'w') as file:\n",
    "    file.write(\"\"\"from django.urls import include, path\n",
    "from rest_framework.routers import DefaultRouter\n",
    "\n",
    "from component.telegram.views import *\n",
    "router = DefaultRouter()\n",
    "\n",
    "               \n",
    "\"\"\")\n",
    "    for i, method in enumerate(all_methods):\n",
    "        if i < 2:\n",
    "            continue\n",
    "        name = method[0]\n",
    "        comment = method[1]\n",
    "        correct_name = name[0].upper()+name[1:]\n",
    "        under_lined_name = \"\"\n",
    "        for char in name:\n",
    "            if char.isupper():\n",
    "                under_lined_name += \"-\"+char.lower()\n",
    "            else:\n",
    "                under_lined_name += char\n",
    "\n",
    "        file.write(f\"router.register(r\\\"{under_lined_name}\\\", {correct_name}ViewSet)\\n\")\n",
    "\n",
    "    file.write(\"\"\"\n",
    "\n",
    "urlpatterns = [\n",
    "    path(\"\", include(router.urls)),\n",
    "]\n",
    "\"\"\")\n",
    "file.close()"
   ]
  },
  {
   "cell_type": "code",
   "execution_count": 14,
   "id": "ef2d5e8929964fed",
   "metadata": {
    "ExecuteTime": {
     "end_time": "2025-03-19T18:17:24.250083Z",
     "start_time": "2025-03-19T18:17:23.261431Z"
    }
   },
   "outputs": [
    {
     "name": "stdout",
     "output_type": "stream",
     "text": [
      "/home/ali/.local/bin/Cursor-0.48.8-x86_64.AppImage: No module named black\n"
     ]
    }
   ],
   "source": [
    "!python -m black ../component/telegram/*"
   ]
  },
  {
   "cell_type": "code",
   "execution_count": 17,
   "id": "3929d49e5238309c",
   "metadata": {
    "ExecuteTime": {
     "end_time": "2025-03-19T18:17:26.131869Z",
     "start_time": "2025-03-19T18:17:24.276602Z"
    }
   },
   "outputs": [
    {
     "name": "stdout",
     "output_type": "stream",
     "text": [
      "zsh:1: no matches found: component/telegram/*\n"
     ]
    }
   ],
   "source": [
    "!pre-commit run --files component/telegram/*"
   ]
  }
 ],
 "metadata": {
  "kernelspec": {
   "display_name": ".venv",
   "language": "python",
   "name": "python3"
  },
  "language_info": {
   "codemirror_mode": {
    "name": "ipython",
    "version": 3
   },
   "file_extension": ".py",
   "mimetype": "text/x-python",
   "name": "python",
   "nbconvert_exporter": "python",
   "pygments_lexer": "ipython3",
   "version": "3.11.12"
  }
 },
 "nbformat": 4,
 "nbformat_minor": 5
}
