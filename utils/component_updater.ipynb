{
 "cells": [
  {
   "cell_type": "code",
   "execution_count": 1,
   "id": "initial_id",
   "metadata": {
    "ExecuteTime": {
     "end_time": "2025-05-02T18:21:48.937158Z",
     "start_time": "2025-05-02T18:21:48.934972Z"
    },
    "collapsed": true
   },
   "outputs": [],
   "source": [
    "import re\n",
    "import requests\n",
    "from bs4 import BeautifulSoup"
   ]
  },
  {
   "cell_type": "code",
   "execution_count": 2,
   "id": "c9f426c907d39913",
   "metadata": {
    "ExecuteTime": {
     "end_time": "2025-05-02T18:21:48.987471Z",
     "start_time": "2025-05-02T18:21:48.984891Z"
    }
   },
   "outputs": [],
   "source": [
    "proxies = {\n",
    "    \"http\": \"http://127.0.0.1:2080\",  # Replace with your proxy address\n",
    "    \"https\": \"http://127.0.0.1:2080\"  # For HTTPS requests as well\n",
    "}\n"
   ]
  },
  {
   "cell_type": "code",
   "execution_count": 3,
   "id": "40f0e82542f522c1",
   "metadata": {
    "ExecuteTime": {
     "end_time": "2025-05-02T18:21:49.753612Z",
     "start_time": "2025-05-02T18:21:49.031384Z"
    }
   },
   "outputs": [],
   "source": [
    "res = requests.get(\"https://core.telegram.org/bots/api\", proxies=proxies)"
   ]
  },
  {
   "cell_type": "code",
   "execution_count": 7,
   "id": "ae1e8b23f5c23dc6",
   "metadata": {
    "ExecuteTime": {
     "end_time": "2025-05-02T18:21:49.764494Z",
     "start_time": "2025-05-02T18:21:49.762476Z"
    }
   },
   "outputs": [],
   "source": [
    "pattern = r'<h4><a class=\\\"anchor\\\" name=\\\".*?\\\" href=\\\".*?\\\"><i class=\\\"anchor-icon\\\"><\\/i><\\/a>(.*?)<\\/h4>\\s+<p>(.*?)<\\/p>\\s+<table class=\\\"table\\\">\\s+<thead>\\s+<tr>\\s+<th>Parameter<\\/th>\\s+<th>Type<\\/th>\\s+<th>Required<\\/th>\\s+<th>Description<\\/th>\\s+<\\/tr>\\s+<\\/thead>\\s+<tbody.*?>([\\s\\S]*?)<\\/tbody>'"
   ]
  },
  {
   "cell_type": "code",
   "execution_count": 8,
   "id": "29c8fb1dff77f41c",
   "metadata": {
    "ExecuteTime": {
     "end_time": "2025-05-02T18:21:49.816806Z",
     "start_time": "2025-05-02T18:21:49.810743Z"
    }
   },
   "outputs": [],
   "source": [
    "all_methods = re.findall(pattern, res.text)"
   ]
  },
  {
   "cell_type": "code",
   "execution_count": 9,
   "id": "85f8a5da061ed4a1",
   "metadata": {
    "ExecuteTime": {
     "end_time": "2025-05-02T18:21:49.862596Z",
     "start_time": "2025-05-02T18:21:49.860357Z"
    }
   },
   "outputs": [],
   "source": [
    "table_body_pattern = r'<tr>\\s+<td>(.*?)</td>\\s+<td>(.*?)</td>\\s+<td>(.*?)</td>\\s+<td>(.*?)</td>\\s+</tr>'"
   ]
  },
  {
   "cell_type": "code",
   "execution_count": 10,
   "id": "ca64487b33fe0082",
   "metadata": {
    "ExecuteTime": {
     "end_time": "2025-05-02T18:21:49.908869Z",
     "start_time": "2025-05-02T18:21:49.906578Z"
    }
   },
   "outputs": [],
   "source": [
    "max_char_pattern = r'-(\\d+) characters'"
   ]
  },
  {
   "cell_type": "code",
   "execution_count": 11,
   "id": "a7b3feaca0bf5a65",
   "metadata": {
    "ExecuteTime": {
     "end_time": "2025-05-02T18:21:49.955013Z",
     "start_time": "2025-05-02T18:21:49.952575Z"
    }
   },
   "outputs": [],
   "source": [
    "def text_cleaner(text):\n",
    "    return BeautifulSoup(text, 'html.parser').get_text().replace('\"', '\\\\\"')"
   ]
  },
  {
   "cell_type": "code",
   "execution_count": 24,
   "id": "b8277c6cbd6e0c1b",
   "metadata": {
    "ExecuteTime": {
     "end_time": "2025-05-02T18:21:50.077258Z",
     "start_time": "2025-05-02T18:21:49.999757Z"
    }
   },
   "outputs": [
    {
     "name": "stdout",
     "output_type": "stream",
     "text": [
      "not supported: 26\n",
      "['Array of MessageEntity', 'LinkPreviewOptions', 'ReplyParameters', 'Array of InputPaidMedia', 'Array of InputMediaAudio, InputMediaDocument, InputMediaPhoto and InputMediaVideo', 'Array of InputPollOption', 'Array of ReactionType', 'ChatPermissions', 'InputFile', 'Array of BotCommand', 'BotCommandScope', 'MenuButton', 'ChatAdministratorRights', 'InputMedia', 'InputProfilePhoto', 'AcceptedGiftTypes', 'InputStoryContent', 'Array of StoryArea', 'Array of InputSticker', 'InputSticker', 'MaskPosition', 'Array of InlineQueryResult', 'InlineQueryResultsButton', 'InlineQueryResult', 'Array of LabeledPrice', 'Array of ShippingOption']\n"
     ]
    }
   ],
   "source": [
    "with open('../component/telegram/models.py', 'w') as file:\n",
    "    file.write(\"\"\"from django.contrib.postgres.fields import ArrayField\n",
    "from typing import List\n",
    "\n",
    "from django.conf import settings\n",
    "from django.contrib.contenttypes.fields import GenericForeignKey\n",
    "from django.contrib.contenttypes.models import ContentType\n",
    "from django.contrib.postgres.fields import ArrayField\n",
    "from django.db import models\n",
    "from django.db.models import Q\n",
    "from django.forms.models import model_to_dict\n",
    "        \n",
    "class Component(models.Model):\n",
    "    class ComponentType(models.TextChoices):\n",
    "        TELEGRAM = \"TELEGRAM\", \"Telegram API Component\"\n",
    "        TRIGGER = \"TRIGGER\", \"Trigger Component\"\n",
    "        CONDITIONAL = \"CONDITIONAL\", \"Conditional Component\"\n",
    "        CODE = \"CODE\", \"Code Component\"\n",
    "        STATE = \"STATE\", \"State Component\"\n",
    "\n",
    "    component_type = models.CharField(\n",
    "        max_length=20,\n",
    "        choices=ComponentType.choices,\n",
    "        default=ComponentType.TELEGRAM,\n",
    "        help_text=\"Type of the component\",\n",
    "    )\n",
    "\n",
    "    def save(self, *args: list, **kwargs: dict) -> None:\n",
    "        if self.pk is None:\n",
    "            self.component_content_type = ContentType.objects.get(\n",
    "                model=self.__class__.__name__.lower(),\n",
    "            )\n",
    "        super().save(*args, **kwargs)\n",
    "\n",
    "    component_content_type = models.ForeignKey(\n",
    "        ContentType,\n",
    "        on_delete=models.CASCADE,\n",
    "        null=True,\n",
    "        blank=True,\n",
    "    )\n",
    "    component_name = models.CharField(\n",
    "        max_length=255,\n",
    "        null=True,\n",
    "    )  # in order to not interfere with some component 'name' field, I added redundant 'component'\n",
    "\n",
    "    bot = models.ForeignKey(\"bot.Bot\", on_delete=models.CASCADE)\n",
    "\n",
    "    previous_component = models.ForeignKey(\n",
    "        \"Component\",\n",
    "        on_delete=models.SET_NULL,\n",
    "        null=True,\n",
    "        blank=True,\n",
    "        related_name=\"next_component\",\n",
    "    )\n",
    "\n",
    "    position_x = models.FloatField(null=False, blank=False)\n",
    "    position_y = models.FloatField(null=False, blank=False)\n",
    "\n",
    "    def __str__(self) -> str:\n",
    "        return self.component_name or \"Empty Component\"\n",
    "\n",
    "    class Meta:\n",
    "        pass\n",
    "\n",
    "    @property\n",
    "    def code_function_name(self) -> str:  # -> name of the function in generated code\n",
    "        return f\"{self.__class__.__name__.lower()}_{self.pk}\"\n",
    "\n",
    "    def _get_file_params(self, underlying_object) -> str:\n",
    "        file_params = \"\"\n",
    "        for field in underlying_object._meta.get_fields():\n",
    "            if isinstance(field, models.FileField):\n",
    "                file_instance = getattr(underlying_object, field.name)\n",
    "                if file_instance and hasattr(file_instance, \"url\"):\n",
    "                    full_url = f\"{settings.SITE_URL}{file_instance.url}\"\n",
    "                    file_params = f\"{field.name}='{full_url}'\"\n",
    "                    setattr(underlying_object, field.name, None)\n",
    "        return file_params\n",
    "\n",
    "    def _get_method_name(self, class_name: str) -> str:\n",
    "        method = \"\"\n",
    "        for c in class_name:\n",
    "            if c.isupper():\n",
    "                method += \"_\"\n",
    "            method += c.lower()\n",
    "        return method.lstrip(\"_\")\n",
    "\n",
    "    def _generate_keyboard_code(self, keyboard) -> list[str]:\n",
    "        if not isinstance(keyboard, InlineKeyboardMarkup):\n",
    "            return []\n",
    "\n",
    "        code = [\"    builder = InlineKeyboardBuilder()\"]\n",
    "        for k in keyboard.inline_keyboard.all():\n",
    "            code.append(\n",
    "                f\"    builder.button(text='{k.text}', callback_data='{k.callback_data}')\",\n",
    "            )\n",
    "        code.append(\"    keyboard = builder.as_markup()\")\n",
    "        return code\n",
    "\n",
    "    def _format_code_component(self, underlying_object) -> list[str]:\n",
    "        try:\n",
    "            import black\n",
    "\n",
    "            formatted_code = black.format_str(underlying_object.code, mode=black.Mode())\n",
    "            return [f\"    {formatted_code}\"]\n",
    "        except Exception as e:\n",
    "            return [\n",
    "                f\"    # Original code failed black formatting: {str(e)}\",\n",
    "                f\"    # {underlying_object.code}\",\n",
    "                \"    pass\",\n",
    "            ]\n",
    "\n",
    "    def _get_component_params(\n",
    "        self,\n",
    "        underlying_object,\n",
    "        keyboard,\n",
    "        file_params: str,\n",
    "    ) -> str:\n",
    "        excluded_fields = {\n",
    "            \"id\",\n",
    "            \"component_ptr\",\n",
    "            \"component_ptr_id\",\n",
    "            \"timestamp\",\n",
    "            \"object_id\",\n",
    "            \"component_type\",\n",
    "            \"content_type\",\n",
    "            \"component_content_type\",\n",
    "            \"bot\",\n",
    "            \"component_name\",\n",
    "            \"previous_component\",\n",
    "            \"position_x\",\n",
    "            \"position_y\",\n",
    "        }\n",
    "\n",
    "        component_data = model_to_dict(underlying_object, exclude=excluded_fields)\n",
    "        param_strings = []\n",
    "\n",
    "        for k, v in component_data.items():\n",
    "            if v:\n",
    "                if isinstance(v, str):\n",
    "                    param_strings.append(\n",
    "                        f\"{k}=input_data{v}\" if v.startswith(\".\") else f\"{k}='{v}'\",\n",
    "                    )\n",
    "                else:\n",
    "                    param_strings.append(f\"{k}={v}\")\n",
    "\n",
    "        if keyboard:\n",
    "            param_strings.append(\"reply_markup=keyboard\")\n",
    "        if file_params:\n",
    "            param_strings.append(file_params)\n",
    "\n",
    "        return \", \".join(param_strings)\n",
    "\n",
    "    def generate_code(self) -> str:\n",
    "        if self.component_type != Component.ComponentType.TELEGRAM:\n",
    "            raise NotImplementedError\n",
    "\n",
    "        underlying_object = self.component_content_type.model_class().objects.get(\n",
    "            pk=self.pk,\n",
    "        )\n",
    "        file_params = self._get_file_params(underlying_object)\n",
    "        method = self._get_method_name(underlying_object.__class__.__name__)\n",
    "\n",
    "        code = [\n",
    "            f\"async def {underlying_object.code_function_name}(input_data: Message, **kwargs):\",\n",
    "        ]\n",
    "\n",
    "        # Handle code component\n",
    "        if underlying_object.__class__.__name__ == \"CodeComponent\":\n",
    "            code.extend(self._format_code_component(underlying_object))\n",
    "            return \"\\\\n\".join(code)\n",
    "\n",
    "        keyboard = None\n",
    "        # Check if markup exists before accessing it\n",
    "        if hasattr(underlying_object, \"markup\") and underlying_object.markup:\n",
    "            markup = underlying_object.markup\n",
    "            match markup.markup_type:\n",
    "                case markup.MarkupType.ReplyKeyboard:\n",
    "                    keyword_class = \"ReplyKeyboardMarkup\"\n",
    "                    button_class = \"KeyboardButton\"\n",
    "                case markup.MarkupType.InlineKeyboard:\n",
    "                    keyword_class = \"InlineKeyboardMarkup\"\n",
    "                    button_class = \"InlineKeyboardButton\"\n",
    "                case _:\n",
    "                    raise NotImplementedError(f\"Unknown markup {markup.markup_type}\")\n",
    "            keyboard_buttons = \"[\"\n",
    "            for row in markup.buttons:\n",
    "                keyboard_buttons += \"[\\\\n\"\n",
    "\n",
    "                for cell in row:\n",
    "                    args = {\"text\": cell}\n",
    "                    if markup.markup_type == markup.MarkupType.InlineKeyboard:\n",
    "                        args[\"callback_data\"] = markup.get_callback_data(cell)\n",
    "\n",
    "                    keyboard_buttons += f\"{button_class}(\\\\n\"\n",
    "                    for k, v in args.items():\n",
    "                        keyboard_buttons += f'{k} = \"{v}\"\\\\n'\n",
    "                    keyboard_buttons += f\")\"\n",
    "\n",
    "                keyboard_buttons += \"]\"\n",
    "            keyboard_buttons += \"]\"\n",
    "            keyboard = f\"{keyword_class}(resize_keyboard=True, one_time_keyboard=False, keyboard = {keyboard_buttons})\"\n",
    "\n",
    "        # Generate parameters and method call\n",
    "        params_str = self._get_component_params(\n",
    "            underlying_object,\n",
    "            keyboard,\n",
    "            file_params,\n",
    "        )\n",
    "        code.append(f\"    await bot.{method}({params_str})\")\n",
    "\n",
    "        # Handle next components\n",
    "        for next_component in underlying_object.next_component.all():\n",
    "            next_component = (\n",
    "                next_component.component_content_type.model_class().objects.get(\n",
    "                    pk=next_component.pk,\n",
    "                )\n",
    "            )\n",
    "            code.append(\n",
    "                f\"    await {next_component.code_function_name}(input_data, **kwargs)\",\n",
    "            )\n",
    "\n",
    "        return \"\\\\n\".join(code)\n",
    "\n",
    "    def get_all_next_components(self) -> List[\"Component\"]:\n",
    "        ans = {}\n",
    "        stack = [self]\n",
    "        while stack:\n",
    "            current = stack.pop()\n",
    "            if current.id not in ans:\n",
    "                ans[current.id] = current\n",
    "                for next_component in current.next_component.all():\n",
    "                    if next_component.id not in ans:\n",
    "                        stack.append(next_component)\n",
    "        return list(ans.values())\n",
    "\n",
    "\n",
    "\"\"\")\n",
    "    not_supported = []\n",
    "\n",
    "    for i, method in enumerate(all_methods):\n",
    "        if i < 2:\n",
    "            continue\n",
    "        name = method[0]\n",
    "        comment = method[1]\n",
    "        body = re.findall(table_body_pattern, method[2])\n",
    "        file.write(f\"class {name[0].upper()+name[1:]}(Component):\\n\")\n",
    "        file.write(f\"    \\\"\\\"\\\"{text_cleaner(comment)}\\\"\\\"\\\"\\n\\n\")\n",
    "        required_fields = []\n",
    "        supported_reply_markup = False\n",
    "\n",
    "        # print(f\"class {name[0].upper()+name[1:]}(TelegramComponent):\")\n",
    "        for item in body:\n",
    "            type_field = text_cleaner(item[1])\n",
    "            django_field = \"\"\n",
    "            keyboard_field = \"\"\n",
    "            django_param = \"\"\n",
    "\n",
    "            if item[2] == 'Optional' or item[0] == 'thumbnail':\n",
    "                django_param = \"null=True, blank=True,\"\n",
    "            elif item[2] == 'Yes':\n",
    "                django_param = \"null=True, blank=True,\"\n",
    "                required_fields.append(item[0])\n",
    "\n",
    "            match = re.search(max_char_pattern, text_cleaner(item[3]))\n",
    "            if match:\n",
    "                extracted_number = int(match.group(1))  # Convert to integer\n",
    "                django_param += f\" max_length = {extracted_number},\"\n",
    "\n",
    "            django_param += f\" help_text=\\\"{text_cleaner(item[3])}\\\"\"\n",
    "\n",
    "            if type_field == 'String' or type_field == 'Integer or String':\n",
    "                django_field = f\" = models.CharField({django_param})\"\n",
    "            elif type_field == 'Boolean':\n",
    "                django_field = f\" = models.BooleanField({django_param})\"\n",
    "            elif type_field == 'Integer':\n",
    "                django_field = f\" = models.IntegerField({django_param})\"\n",
    "            elif type_field == 'Array of Integer':\n",
    "                django_field = f\"= ArrayField(models.IntegerField(), default=list, {django_param})\"\n",
    "            elif type_field == 'Array of String':\n",
    "                django_field = f\"= ArrayField(models.CharField(), default=list, {django_param})\"\n",
    "            elif type_field == 'Float':\n",
    "                django_field = f\" = models.FloatField({django_param})\"\n",
    "            elif type_field == 'InputFile or String':\n",
    "                django_field = f\" =  models.FileField(upload_to=\\\"{item[0]}/\\\", {django_param})\"\n",
    "            elif type_field == 'InlineKeyboardMarkup or ReplyKeyboardMarkup or ReplyKeyboardRemove or ForceReply':\n",
    "                supported_reply_markup = True\n",
    "            elif type_field == 'InlineKeyboardMarkup':\n",
    "                supported_reply_markup = True\n",
    "            else:\n",
    "                if type_field not in not_supported:\n",
    "                    not_supported.append(type_field)\n",
    "                \n",
    "            if django_field:\n",
    "                file.write(f\"    {item[0]}{django_field}\\n\")\n",
    "            if keyboard_field:\n",
    "                file.write(f\"{keyboard_field}\\n\")\n",
    "\n",
    "        file.write(f\"    @property\\n\")\n",
    "        file.write(f\"    def required_fields(self) -> list:\\n\")\n",
    "        file.write(f\"        return {required_fields}\\n\")\n",
    "\n",
    "        file.write(f\"    @property\\n\")\n",
    "        file.write(f\"    def reply_markup_supported(self) -> bool:\\n\")\n",
    "        file.write(f\"        return {supported_reply_markup}\\n\")\n",
    "\n",
    "        file.write(\"\\n\\n\")\n",
    "file.close()\n",
    "print(f\"not supported: {len(not_supported)}\")\n",
    "print(not_supported)"
   ]
  },
  {
   "cell_type": "code",
   "execution_count": 47,
   "id": "86d8935e4565554a",
   "metadata": {
    "ExecuteTime": {
     "end_time": "2025-05-02T18:21:50.087209Z",
     "start_time": "2025-05-02T18:21:50.083596Z"
    }
   },
   "outputs": [],
   "source": [
    "with open('../component/telegram/serializers.py', 'w') as file:\n",
    "    file.write(\"\"\"from rest_framework import serializers\n",
    "from component.telegram.models import *\n",
    "\n",
    "class ModelSerializerCustom(serializers.ModelSerializer):\n",
    "    def create(self, validated_data: dict) -> Component:\n",
    "        validated_data[\"bot_id\"] = self.context.get(\"bot\")\n",
    "        return super().create(validated_data)\n",
    "\"\"\")\n",
    "    for i, method in enumerate(all_methods):\n",
    "        if i < 2:\n",
    "            continue\n",
    "        name = method[0]\n",
    "        comment = method[1]\n",
    "        file.write(f\"class {name[0].upper()+name[1:]}Serializer(ModelSerializerCustom):\\n\")\n",
    "        file.write(f\"    class Meta:\\n\")\n",
    "        file.write(f\"        model = {name[0].upper()+name[1:]}\\n\")\n",
    "        # file.write(f\"        depth = 1\\n\")\n",
    "        file.write(f\"        exclude = [\\\"bot\\\"]\\n\")\n",
    "        file.write(f\"        read_only_fields = [\\\"component_type\\\"]\")\n",
    "        file.write(\"\\n\\n\")\n",
    "file.close()"
   ]
  },
  {
   "cell_type": "code",
   "execution_count": 26,
   "id": "1e39353c535e21ba",
   "metadata": {
    "ExecuteTime": {
     "end_time": "2025-05-02T18:21:50.132736Z",
     "start_time": "2025-05-02T18:21:50.129614Z"
    }
   },
   "outputs": [],
   "source": [
    "with open('../component/telegram/views.py', 'w') as file:\n",
    "    file.write(\"\"\"from django.db.models import QuerySet\n",
    "from rest_framework.viewsets import ModelViewSet\n",
    "\n",
    "from bot.permissions import IsBotOwner\n",
    "from component.telegram.serializers import *\n",
    "from iam.permissions import IsLoginedPermission\n",
    "\n",
    "\n",
    "class ModelViewSetCustom(ModelViewSet):\n",
    "    def get_serializer_context(self) -> dict:\n",
    "        context = super().get_serializer_context()\n",
    "        context[\"bot\"] = self.kwargs.get(\"bot\")\n",
    "        return context\n",
    "\n",
    "    def get_queryset(self) -> QuerySet:\n",
    "        return super().get_queryset().filter(bot=self.kwargs.get(\"bot\"))\n",
    "\n",
    "\"\"\")\n",
    "    for i, method in enumerate(all_methods):\n",
    "        if i < 2:\n",
    "            continue\n",
    "        name = method[0]\n",
    "        comment = method[1]\n",
    "        correct_name = name[0].upper()+name[1:]\n",
    "        file.write(f\"class {correct_name}ViewSet(ModelViewSetCustom):\\n\")\n",
    "        file.write(f\"    permission_classes = [IsLoginedPermission, IsBotOwner]\\n\")\n",
    "        file.write(f\"    serializer_class = {correct_name}Serializer\\n\")\n",
    "        file.write(f\"    queryset = {correct_name}.objects.all()\\n\")\n",
    "        file.write(\"\\n\\n\")\n",
    "file.close()"
   ]
  },
  {
   "cell_type": "code",
   "execution_count": 28,
   "id": "60dc33d27c71666",
   "metadata": {
    "ExecuteTime": {
     "end_time": "2025-05-02T18:21:50.181355Z",
     "start_time": "2025-05-02T18:21:50.176544Z"
    }
   },
   "outputs": [],
   "source": [
    "with open('../component/telegram/urls.py', 'w') as file:\n",
    "    file.write(\"\"\"from django.urls import include, path\n",
    "from rest_framework.routers import DefaultRouter\n",
    "\n",
    "from component.telegram.views import *\n",
    "router = DefaultRouter()\n",
    "\n",
    "               \n",
    "\"\"\")\n",
    "    for i, method in enumerate(all_methods):\n",
    "        if i < 2:\n",
    "            continue\n",
    "        name = method[0]\n",
    "        comment = method[1]\n",
    "        correct_name = name[0].upper()+name[1:]\n",
    "        under_lined_name = \"\"\n",
    "        for char in name:\n",
    "            if char.isupper():\n",
    "                under_lined_name += \"-\"+char.lower()\n",
    "            else:\n",
    "                under_lined_name += char\n",
    "\n",
    "        file.write(f\"router.register(r\\\"{under_lined_name}\\\", {correct_name}ViewSet)\\n\")\n",
    "\n",
    "    file.write(\"\"\"\n",
    "\n",
    "urlpatterns = [\n",
    "    path(\"\", include(router.urls)),\n",
    "]\n",
    "\"\"\")\n",
    "file.close()"
   ]
  },
  {
   "cell_type": "code",
   "execution_count": 48,
   "id": "ef2d5e8929964fed",
   "metadata": {
    "ExecuteTime": {
     "end_time": "2025-05-02T18:21:57.675685Z",
     "start_time": "2025-05-02T18:21:57.484783Z"
    }
   },
   "outputs": [
    {
     "name": "stdout",
     "output_type": "stream",
     "text": [
      "/home/ali/.local/bin/Cursor-0.48.8-x86_64.AppImage: No module named black\n"
     ]
    }
   ],
   "source": [
    "!python -m black ../component/*"
   ]
  },
  {
   "cell_type": "code",
   "execution_count": 50,
   "id": "3929d49e5238309c",
   "metadata": {
    "ExecuteTime": {
     "end_time": "2025-05-02T18:22:00.292598Z",
     "start_time": "2025-05-02T18:21:58.818894Z"
    }
   },
   "outputs": [
    {
     "name": "stdout",
     "output_type": "stream",
     "text": [
      "isort....................................................................\u001b[42mPassed\u001b[m\n",
      "black....................................................................\u001b[42mPassed\u001b[m\n",
      "Add trailing commas......................................................\u001b[42mPassed\u001b[m\n",
      "trim trailing whitespace.................................................\u001b[42mPassed\u001b[m\n"
     ]
    }
   ],
   "source": [
    "!pre-commit run --all-files"
   ]
  },
  {
   "cell_type": "code",
   "execution_count": null,
   "id": "ebe474ba",
   "metadata": {},
   "outputs": [],
   "source": []
  }
 ],
 "metadata": {
  "kernelspec": {
   "display_name": ".venv",
   "language": "python",
   "name": "python3"
  },
  "language_info": {
   "codemirror_mode": {
    "name": "ipython",
    "version": 3
   },
   "file_extension": ".py",
   "mimetype": "text/x-python",
   "name": "python",
   "nbconvert_exporter": "python",
   "pygments_lexer": "ipython3",
   "version": "3.11.12"
  }
 },
 "nbformat": 4,
 "nbformat_minor": 5
}
