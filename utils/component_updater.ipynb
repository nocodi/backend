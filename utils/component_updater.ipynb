{
 "cells": [
  {
   "cell_type": "code",
   "id": "initial_id",
   "metadata": {
    "collapsed": true,
    "ExecuteTime": {
     "end_time": "2025-03-19T18:17:21.451978Z",
     "start_time": "2025-03-19T18:17:21.447384Z"
    }
   },
   "source": [
    "import re\n",
    "import requests\n",
    "from bs4 import BeautifulSoup"
   ],
   "outputs": [],
   "execution_count": 5
  },
  {
   "metadata": {
    "ExecuteTime": {
     "end_time": "2025-03-19T18:17:21.492750Z",
     "start_time": "2025-03-19T18:17:21.487606Z"
    }
   },
   "cell_type": "code",
   "source": [
    "proxies = {\n",
    "    \"http\": \"http://127.0.0.1:2080\",  # Replace with your proxy address\n",
    "    \"https\": \"http://127.0.0.1:2080\"  # For HTTPS requests as well\n",
    "}\n"
   ],
   "id": "c9f426c907d39913",
   "outputs": [],
   "execution_count": 6
  },
  {
   "metadata": {
    "ExecuteTime": {
     "end_time": "2025-03-19T18:17:22.675452Z",
     "start_time": "2025-03-19T18:17:21.530764Z"
    }
   },
   "cell_type": "code",
   "source": "res = requests.get(\"https://core.telegram.org/bots/api\", proxies=proxies)",
   "id": "40f0e82542f522c1",
   "outputs": [],
   "execution_count": 7
  },
  {
   "metadata": {
    "ExecuteTime": {
     "end_time": "2025-03-19T18:17:22.691052Z",
     "start_time": "2025-03-19T18:17:22.686356Z"
    }
   },
   "cell_type": "code",
   "source": "pattern = r'<h4><a class=\\\"anchor\\\" name=\\\".*?\\\" href=\\\".*?\\\"><i class=\\\"anchor-icon\\\"><\\/i><\\/a>(.*?)<\\/h4>\\s+<p>(.*?)<\\/p>\\s+<table class=\\\"table\\\">\\s+<thead>\\s+<tr>\\s+<th>Parameter<\\/th>\\s+<th>Type<\\/th>\\s+<th>Required<\\/th>\\s+<th>Description<\\/th>\\s+<\\/tr>\\s+<\\/thead>\\s+<tbody.*?>([\\s\\S]*?)<\\/tbody>'",
   "id": "ae1e8b23f5c23dc6",
   "outputs": [],
   "execution_count": 8
  },
  {
   "metadata": {
    "ExecuteTime": {
     "end_time": "2025-03-19T18:17:22.760142Z",
     "start_time": "2025-03-19T18:17:22.744202Z"
    }
   },
   "cell_type": "code",
   "source": "all_methods = re.findall(pattern, res.text)",
   "id": "29c8fb1dff77f41c",
   "outputs": [],
   "execution_count": 9
  },
  {
   "metadata": {
    "ExecuteTime": {
     "end_time": "2025-03-19T18:17:22.795592Z",
     "start_time": "2025-03-19T18:17:22.791335Z"
    }
   },
   "cell_type": "code",
   "source": "table_body_pattern = r'<tr>\\s+<td>(.*?)</td>\\s+<td>(.*?)</td>\\s+<td>(.*?)</td>\\s+<td>(.*?)</td>\\s+</tr>'",
   "id": "85f8a5da061ed4a1",
   "outputs": [],
   "execution_count": 10
  },
  {
   "metadata": {
    "ExecuteTime": {
     "end_time": "2025-03-19T18:17:22.849816Z",
     "start_time": "2025-03-19T18:17:22.845083Z"
    }
   },
   "cell_type": "code",
   "source": "max_char_pattern = r'-(\\d+) characters'",
   "id": "ca64487b33fe0082",
   "outputs": [],
   "execution_count": 11
  },
  {
   "metadata": {
    "ExecuteTime": {
     "end_time": "2025-03-19T18:17:22.899388Z",
     "start_time": "2025-03-19T18:17:22.895760Z"
    }
   },
   "cell_type": "code",
   "source": [
    "def text_cleaner(text):\n",
    "    return BeautifulSoup(text, 'html.parser').get_text().replace('\"', '\\\\\"')"
   ],
   "id": "a7b3feaca0bf5a65",
   "outputs": [],
   "execution_count": 12
  },
  {
   "metadata": {
    "ExecuteTime": {
     "end_time": "2025-03-19T18:21:45.316539Z",
     "start_time": "2025-03-19T18:21:45.189702Z"
    }
   },
   "cell_type": "code",
   "source": [
    "with open('../component/models.py', 'w') as file:\n",
    "    file.write(\"\"\"from django.contrib.postgres.fields import ArrayField\n",
    "from django.db import models\n",
    "\n",
    "\n",
    "class TelegramComponent(models.Model):\n",
    "    timestamp = models.DateTimeField(auto_now_add=True)\n",
    "    class Meta:\n",
    "        pass\n",
    "\n",
    "\n",
    "\"\"\")\n",
    "\n",
    "    for i, method in enumerate(all_methods):\n",
    "        if i < 2:\n",
    "            continue\n",
    "        name = method[0]\n",
    "        comment = method[1]\n",
    "        body = re.findall(table_body_pattern, method[2])\n",
    "        file.write(f\"class {name[0].upper()+name[1:]}(TelegramComponent):\\n\")\n",
    "        file.write(f\"    \\\"\\\"\\\"{text_cleaner(comment)}\\\"\\\"\\\"\\n\\n\")\n",
    "\n",
    "        # print(f\"class {name[0].upper()+name[1:]}(TelegramComponent):\")\n",
    "        for item in body:\n",
    "            type_field = text_cleaner(item[1])\n",
    "\n",
    "            if item[2] == 'Optional' or item[0] == 'thumbnail':\n",
    "                django_param = \"null=True, blank=True,\"\n",
    "            elif item[2] == 'Yes':\n",
    "                django_param = \"null=False, blank=False,\"\n",
    "\n",
    "            match = re.search(max_char_pattern, text_cleaner(item[3]))\n",
    "            if match:\n",
    "                extracted_number = int(match.group(1))  # Convert to integer\n",
    "                django_param += f\" max_length = {extracted_number},\"\n",
    "\n",
    "            django_param += f\" help_text=\\\"{text_cleaner(item[3])}\\\"\"\n",
    "\n",
    "            if type_field == 'String' or type_field == 'Integer or String':\n",
    "                django_field = f\" = models.CharField({django_param})\"\n",
    "            elif type_field == 'Boolean':\n",
    "                django_field = f\" = models.BooleanField({django_param})\"\n",
    "            elif type_field == 'Integer':\n",
    "                django_field = f\" = models.IntegerField({django_param})\"\n",
    "            elif type_field == 'Array of Integer':\n",
    "                django_field = f\"= ArrayField(models.IntegerField(), default=list, {django_param})\"\n",
    "            elif type_field == 'Array of String':\n",
    "                django_field = f\"= ArrayField(models.CharField(), default=list, {django_param})\"\n",
    "            elif type_field == 'Float':\n",
    "                django_field = f\" = models.FloatField({django_param})\"\n",
    "            elif type_field == 'InputFile or String':\n",
    "                django_field = f\" =  models.FileField(upload_to=\\\"{item[0]}/\\\", {django_param})\"\n",
    "            else:\n",
    "                continue\n",
    "\n",
    "                # type_field = text_cleaner(item[1])\n",
    "                # if type_field == 'InlineKeyboardMarkup or ReplyKeyboardMarkup or ReplyKeyboardRemove or ForceReply':\n",
    "                #     pass\n",
    "                # elif type_field == 'InlineKeyboardMarkup':\n",
    "                #     pass\n",
    "                # else:\n",
    "                #     pass\n",
    "                # if item[0] in ['reply_markup', 'reply_parameters']:\n",
    "                #     print( item[0] , text_cleaner(item[1]))\n",
    "\n",
    "\n",
    "            if django_field:\n",
    "                file.write(f\"    {item[0]}{django_field}\\n\")\n",
    "                # print(f\"    {item[0]}\", django_field)#, f\"help_text='{item[3]}'\")\n",
    "                # print(\"models.CharField\")\n",
    "        # print()\n",
    "        file.write(\"\\n\\n\")\n",
    "file.close()"
   ],
   "id": "b8277c6cbd6e0c1b",
   "outputs": [],
   "execution_count": 19
  },
  {
   "metadata": {
    "ExecuteTime": {
     "end_time": "2025-03-19T18:17:23.104196Z",
     "start_time": "2025-03-19T18:17:23.101018Z"
    }
   },
   "cell_type": "code",
   "source": [
    "with open('../component/serializers.py', 'w') as file:\n",
    "    file.write(\"\"\"from rest_framework import serializers\n",
    "from component.models import *\n",
    "\n",
    "\n",
    "\"\"\")\n",
    "    for i, method in enumerate(all_methods):\n",
    "        if i < 2:\n",
    "            continue\n",
    "        name = method[0]\n",
    "        comment = method[1]\n",
    "        file.write(f\"class {name[0].upper()+name[1:]}Serializer(serializers.ModelSerializer):\\n\")\n",
    "        file.write(f\"    class Meta:\\n\")\n",
    "        file.write(f\"        model = {name[0].upper()+name[1:]}\\n\")\n",
    "        file.write(f\"        depth = 1\\n\")\n",
    "        file.write(f\"        fields = \\\"__all__\\\"\")\n",
    "        file.write(\"\\n\\n\")\n",
    "file.close()"
   ],
   "id": "86d8935e4565554a",
   "outputs": [],
   "execution_count": 14
  },
  {
   "metadata": {
    "ExecuteTime": {
     "end_time": "2025-03-19T18:17:23.157364Z",
     "start_time": "2025-03-19T18:17:23.150152Z"
    }
   },
   "cell_type": "code",
   "source": [
    "with open('../component/views.py', 'w') as file:\n",
    "    file.write(\"\"\"from rest_framework.viewsets import ModelViewSet\n",
    "from component.serializers import *\n",
    "\n",
    "\n",
    "\"\"\")\n",
    "    for i, method in enumerate(all_methods):\n",
    "        if i < 2:\n",
    "            continue\n",
    "        name = method[0]\n",
    "        comment = method[1]\n",
    "        correct_name = name[0].upper()+name[1:]\n",
    "        file.write(f\"class {correct_name}ViewSet(ModelViewSet):\\n\")\n",
    "        file.write(f\"    serializer_class = {correct_name}Serializer\\n\")\n",
    "        file.write(f\"    queryset = {correct_name}.objects.all()\\n\")\n",
    "        file.write(\"\\n\\n\")\n",
    "file.close()"
   ],
   "id": "1e39353c535e21ba",
   "outputs": [],
   "execution_count": 15
  },
  {
   "metadata": {
    "ExecuteTime": {
     "end_time": "2025-03-19T18:17:23.214298Z",
     "start_time": "2025-03-19T18:17:23.205544Z"
    }
   },
   "cell_type": "code",
   "source": [
    "with open('../component/urls.py', 'w') as file:\n",
    "    file.write(\"\"\"from django.urls import include, path\n",
    "from rest_framework.routers import DefaultRouter\n",
    "\n",
    "from component.views import *\n",
    "\n",
    "router = DefaultRouter()\n",
    "\n",
    "\"\"\")\n",
    "    for i, method in enumerate(all_methods):\n",
    "        if i < 2:\n",
    "            continue\n",
    "        name = method[0]\n",
    "        comment = method[1]\n",
    "        correct_name = name[0].upper()+name[1:]\n",
    "        under_lined_name = \"\"\n",
    "        for char in name:\n",
    "            if char.isupper():\n",
    "                under_lined_name += \"-\"+char.lower()\n",
    "            else:\n",
    "                under_lined_name += char\n",
    "\n",
    "        file.write(f\"router.register(r\\\"{under_lined_name}\\\", {correct_name}ViewSet)\\n\")\n",
    "\n",
    "    file.write(\"\"\"\n",
    "\n",
    "urlpatterns = [\n",
    "    path(\"\", include(router.urls)),\n",
    "]\n",
    "\"\"\")\n",
    "file.close()"
   ],
   "id": "60dc33d27c71666",
   "outputs": [],
   "execution_count": 16
  },
  {
   "metadata": {
    "ExecuteTime": {
     "end_time": "2025-03-19T18:17:24.250083Z",
     "start_time": "2025-03-19T18:17:23.261431Z"
    }
   },
   "cell_type": "code",
   "source": "!python -m black ../component/*",
   "id": "ef2d5e8929964fed",
   "outputs": [
    {
     "name": "stdout",
     "output_type": "stream",
     "text": [
      "\u001B[1mreformatted ../component/urls.py\u001B[0m\r\n",
      "\u001B[1mreformatted ../component/views.py\u001B[0m\r\n",
      "\u001B[1mreformatted ../component/serializers.py\u001B[0m\r\n",
      "\u001B[1mreformatted ../component/models.py\u001B[0m\r\n",
      "\r\n",
      "\u001B[1mAll done! ✨ 🍰 ✨\u001B[0m\r\n",
      "\u001B[34m\u001B[1m4 files \u001B[0m\u001B[1mreformatted\u001B[0m, \u001B[34m6 files \u001B[0mleft unchanged.\r\n"
     ]
    }
   ],
   "execution_count": 17
  },
  {
   "metadata": {
    "ExecuteTime": {
     "end_time": "2025-03-19T18:17:26.131869Z",
     "start_time": "2025-03-19T18:17:24.276602Z"
    }
   },
   "cell_type": "code",
   "source": "!pre-commit run --all-files",
   "id": "3929d49e5238309c",
   "outputs": [
    {
     "name": "stdout",
     "output_type": "stream",
     "text": [
      "isort....................................................................\u001B[41mFailed\u001B[m\r\n",
      "\u001B[2m- hook id: isort\u001B[m\r\n",
      "\u001B[2m- files were modified by this hook\u001B[m\r\n",
      "\r\n",
      "Fixing /home/ali/Documents/nocode/backend/component/serializers.py\r\n",
      "Fixing /home/ali/Documents/nocode/backend/component/views.py\r\n",
      "\r\n",
      "black....................................................................\u001B[42mPassed\u001B[m\r\n",
      "Add trailing commas......................................................\u001B[41mFailed\u001B[m\r\n",
      "\u001B[2m- hook id: add-trailing-comma\u001B[m\r\n",
      "\u001B[2m- exit code: 1\u001B[m\r\n",
      "\u001B[2m- files were modified by this hook\u001B[m\r\n",
      "\r\n",
      "Rewriting component/urls.py\r\n",
      "Rewriting component/models.py\r\n",
      "\r\n",
      "trim trailing whitespace.................................................\u001B[42mPassed\u001B[m\r\n",
      "mypy.....................................................................\u001B[41mFailed\u001B[m\r\n",
      "\u001B[2m- hook id: mypy\u001B[m\r\n",
      "\u001B[2m- files were modified by this hook\u001B[m\r\n",
      "\r\n",
      "\u001B[1m\u001B[32mSuccess: no issues found in 42 source files\u001B[m\r\n",
      "\r\n"
     ]
    }
   ],
   "execution_count": 18
  }
 ],
 "metadata": {
  "kernelspec": {
   "display_name": "Python 3",
   "language": "python",
   "name": "python3"
  },
  "language_info": {
   "codemirror_mode": {
    "name": "ipython",
    "version": 2
   },
   "file_extension": ".py",
   "mimetype": "text/x-python",
   "name": "python",
   "nbconvert_exporter": "python",
   "pygments_lexer": "ipython2",
   "version": "2.7.6"
  }
 },
 "nbformat": 4,
 "nbformat_minor": 5
}
